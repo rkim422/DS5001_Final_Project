{
 "cells": [
  {
   "cell_type": "code",
   "execution_count": 16,
   "id": "838745f6",
   "metadata": {},
   "outputs": [],
   "source": [
    "import pandas as pd\n",
    "import numpy as np\n",
    "from scipy.linalg import norm, eigh\n",
    "from sklearn.decomposition import PCA\n",
    "import plotly_express as px"
   ]
  },
  {
   "cell_type": "code",
   "execution_count": 2,
   "id": "3441020b",
   "metadata": {},
   "outputs": [],
   "source": [
    "OHCO = ['doc_source', 'doc_id', 'sent_num', 'token_num']"
   ]
  },
  {
   "cell_type": "code",
   "execution_count": 3,
   "id": "c3ec9513",
   "metadata": {},
   "outputs": [],
   "source": [
    "LIB = pd.read_csv('LIB.csv').set_index('doc_id')\n",
    "LIB['doc_date'] = pd.to_datetime(LIB['doc_date'])\n",
    "CORPUS = pd.read_csv('CORPUS.csv').set_index(OHCO)\n",
    "VOCAB = pd.read_csv('VOCAB.csv').set_index('term_str')"
   ]
  },
  {
   "cell_type": "code",
   "execution_count": 4,
   "id": "5c152418",
   "metadata": {},
   "outputs": [],
   "source": [
    "from sklearn.feature_extraction.text import CountVectorizer\n",
    "from sklearn.decomposition import LatentDirichletAllocation as LDA\n",
    "import plotly_express as px\n",
    "\n",
    "class TopicExplorer:\n",
    "    \n",
    "    n_features = 4000\n",
    "    stopwords = 'english'\n",
    "    lda_num_topics = 20\n",
    "    lda_max_iter = 5\n",
    "    lda_n_top_terms = 7\n",
    "    \n",
    "    def __init__(self, tokens_df, lib_df, bag, labels=[]):\n",
    "        self.TOKENS = tokens_df\n",
    "        self.LIB = lib_df\n",
    "        self.bag = bag\n",
    "        self.labels = labels\n",
    "        \n",
    "    def generate_tables(self):\n",
    "        print(\"BAG:\", self.bag[-1])\n",
    "        print(\"LABELS:\", self.labels)\n",
    "        print(\"Getting DOCS\")\n",
    "        self._get_docs()\n",
    "        print(\"Getting TERMS\")\n",
    "        self._get_count_model()\n",
    "        print(\"Getting THETA, PHI\")\n",
    "        self._get_topic_model()\n",
    "        print(\"Getting TOPICS\")\n",
    "        self._get_topics()\n",
    "        print('Binding LIB labels to THETA')\n",
    "        self._bind_labels()\n",
    "        print(\"Done.\")\n",
    "        return self\n",
    "        \n",
    "    def _get_docs(self, pos_remove_pat=r'^NNS?$'):\n",
    "        self.DOCS = self.TOKENS[self.TOKENS.pos.str.match(pos_remove_pat)]\\\n",
    "            .groupby(self.bag).term_str\\\n",
    "            .apply(lambda x: ' '.join(x))\\\n",
    "            .to_frame()\\\n",
    "            .rename(columns={'term_str':'doc_str'})\n",
    "        \n",
    "    def _get_count_model(self):\n",
    "        self.count_engine = CountVectorizer(max_features=self.n_features, \n",
    "                                            stop_words=self.stopwords)\n",
    "        self.count_model = self.count_engine.fit_transform(self.DOCS.doc_str)\n",
    "        self.TERMS = self.count_engine.get_feature_names_out()\n",
    "        \n",
    "    def _get_topic_model(self):\n",
    "        self.lda_engine = LDA(n_components=self.lda_num_topics, \n",
    "                              max_iter=self.lda_max_iter, \n",
    "                              learning_offset=50., \n",
    "                              random_state=0)\n",
    "        self.THETA = pd.DataFrame(self.lda_engine.fit_transform(self.count_model), \n",
    "                                  index=self.DOCS.index)\n",
    "        self.THETA.columns.name = 'topic_id'\n",
    "        self.PHI = pd.DataFrame(self.lda_engine.components_, columns=self.TERMS)\n",
    "        self.PHI.index.name = 'topic_id'\n",
    "        self.PHI.columns.name = 'term_str'\n",
    "        \n",
    "    def _get_topics(self, n_terms=10):\n",
    "        self.TOPICS = self.PHI.stack().to_frame('weight')\\\n",
    "            .groupby('topic_id')\\\n",
    "            .apply(lambda x: x.weight.sort_values(ascending=False)\\\n",
    "               .head(self.lda_n_top_terms)\\\n",
    "               .reset_index()\\\n",
    "               .drop('topic_id', axis=1)\\\n",
    "               .term_str)\n",
    "        self.TOPICS['label'] = self.TOPICS[[t for t in range(self.lda_n_top_terms)]]\\\n",
    "            .apply(lambda x: str(x.name)\\\n",
    "                   .zfill(len(str(self.lda_num_topics))) + ' ' + ' '.join(x), axis=1)\n",
    "        self.TOPICS['doc_weight_sum'] = self.THETA.sum()\n",
    "        self.topic_cols = [t for t in range(self.lda_num_topics)]\n",
    "        \n",
    "    def _bind_labels(self):\n",
    "        self.LABELS = {}\n",
    "        self.LABEL_VALUES = {}\n",
    "        for label in self.labels:\n",
    "            self.THETA[label] = self.THETA\\\n",
    "                .apply(lambda x: self.LIB.loc[x.name[0], label], axis=1)\n",
    "            self.LABELS[label] = self.THETA.groupby(label)[self.topic_cols].mean().T  \n",
    "            self.THETA = self.THETA.drop(label, axis=1) # Don't keep the column\n",
    "            self.LABELS[label].index.name = 'topic_id'\n",
    "            self.LABELS[label]['label'] = self.TOPICS['label']\n",
    "            self.LABEL_VALUES[label] = sorted(list(set(self.LIB[label])))\n",
    "            \n",
    "    def show_dominant_label_topic(self, label):\n",
    "        X = self.LABELS[label][self.LABEL_VALUES[label]].idxmax()\n",
    "        return X.to_frame('topic_id').topic_id.map(self.TOPICS.label)\n",
    "            \n",
    "    def show_label_values(self):\n",
    "        for label in self.LABEL_VALUES:\n",
    "            print(label, \": \", self.LABEL_VALUES[label])\n",
    "        \n",
    "    def show_topic_bar(self):\n",
    "        fig_height = self.lda_num_topics / 3\n",
    "        self.TOPICS.sort_values('doc_weight_sum', ascending=True)\\\n",
    "            .plot.barh(y='doc_weight_sum', x='label', figsize=(5, fig_height));\n",
    "        \n",
    "    def show_topic_label_heatmap(self, label):\n",
    "        return MP.LABELS[label][MP.LABEL_VALUES[label]].style.background_gradient()\n",
    "        \n",
    "    def show_label_comparison_plot(self, label, label_value_x, label_value_y):\n",
    "        px.scatter(self.LABELS[label].reset_index(), label_value_x, label_value_y, \n",
    "                   hover_name='label', text='topic_id', width=800, height=600)\\\n",
    "            .update_traces(mode='text').show()        "
   ]
  },
  {
   "cell_type": "code",
   "execution_count": 5,
   "id": "91d85b9e",
   "metadata": {},
   "outputs": [],
   "source": [
    "bag=['doc_id', 'doc_source']\n",
    "LABELS = ['year']"
   ]
  },
  {
   "cell_type": "code",
   "execution_count": 6,
   "id": "49975cf0",
   "metadata": {},
   "outputs": [],
   "source": [
    "#CORPUS.set_index(['doc_id', 'doc_source', 'sent_num', 'token_num'])"
   ]
  },
  {
   "cell_type": "code",
   "execution_count": 7,
   "id": "06e7b873",
   "metadata": {},
   "outputs": [
    {
     "name": "stdout",
     "output_type": "stream",
     "text": [
      "BAG: doc_source\n",
      "LABELS: ['year']\n",
      "Getting DOCS\n",
      "Getting TERMS\n",
      "Getting THETA, PHI\n",
      "Getting TOPICS\n",
      "Binding LIB labels to THETA\n",
      "Done.\n"
     ]
    }
   ],
   "source": [
    "M = TopicExplorer(CORPUS, LIB, bag, LABELS).generate_tables()"
   ]
  },
  {
   "cell_type": "code",
   "execution_count": 13,
   "id": "7dfae2d6",
   "metadata": {},
   "outputs": [
    {
     "data": {
      "text/html": [
       "<div>\n",
       "<style scoped>\n",
       "    .dataframe tbody tr th:only-of-type {\n",
       "        vertical-align: middle;\n",
       "    }\n",
       "\n",
       "    .dataframe tbody tr th {\n",
       "        vertical-align: top;\n",
       "    }\n",
       "\n",
       "    .dataframe thead th {\n",
       "        text-align: right;\n",
       "    }\n",
       "</style>\n",
       "<table border=\"1\" class=\"dataframe\">\n",
       "  <thead>\n",
       "    <tr style=\"text-align: right;\">\n",
       "      <th>term_str</th>\n",
       "      <th>0</th>\n",
       "      <th>1</th>\n",
       "      <th>2</th>\n",
       "      <th>3</th>\n",
       "      <th>4</th>\n",
       "      <th>5</th>\n",
       "      <th>6</th>\n",
       "      <th>label</th>\n",
       "      <th>doc_weight_sum</th>\n",
       "    </tr>\n",
       "    <tr>\n",
       "      <th>topic_id</th>\n",
       "      <th></th>\n",
       "      <th></th>\n",
       "      <th></th>\n",
       "      <th></th>\n",
       "      <th></th>\n",
       "      <th></th>\n",
       "      <th></th>\n",
       "      <th></th>\n",
       "      <th></th>\n",
       "    </tr>\n",
       "  </thead>\n",
       "  <tbody>\n",
       "    <tr>\n",
       "      <th>0</th>\n",
       "      <td>deal</td>\n",
       "      <td>game</td>\n",
       "      <td>trial</td>\n",
       "      <td>points</td>\n",
       "      <td>coverage</td>\n",
       "      <td>law</td>\n",
       "      <td>stock</td>\n",
       "      <td>00 deal game trial points coverage law stock</td>\n",
       "      <td>2021.935317</td>\n",
       "    </tr>\n",
       "    <tr>\n",
       "      <th>1</th>\n",
       "      <td>man</td>\n",
       "      <td>police</td>\n",
       "      <td>authorities</td>\n",
       "      <td>death</td>\n",
       "      <td>woman</td>\n",
       "      <td>prison</td>\n",
       "      <td>officer</td>\n",
       "      <td>01 man police authorities death woman prison o...</td>\n",
       "      <td>4718.925643</td>\n",
       "    </tr>\n",
       "    <tr>\n",
       "      <th>2</th>\n",
       "      <td>government</td>\n",
       "      <td>border</td>\n",
       "      <td>state</td>\n",
       "      <td>budget</td>\n",
       "      <td>wall</td>\n",
       "      <td>emergency</td>\n",
       "      <td>night</td>\n",
       "      <td>02 government border state budget wall emergen...</td>\n",
       "      <td>2212.921888</td>\n",
       "    </tr>\n",
       "    <tr>\n",
       "      <th>3</th>\n",
       "      <td>news</td>\n",
       "      <td>media</td>\n",
       "      <td>investigation</td>\n",
       "      <td>articles</td>\n",
       "      <td>security</td>\n",
       "      <td>people</td>\n",
       "      <td>press</td>\n",
       "      <td>03 news media investigation articles security ...</td>\n",
       "      <td>2098.992193</td>\n",
       "    </tr>\n",
       "    <tr>\n",
       "      <th>4</th>\n",
       "      <td>story</td>\n",
       "      <td>link</td>\n",
       "      <td>column</td>\n",
       "      <td>advertise</td>\n",
       "      <td>second</td>\n",
       "      <td>headline</td>\n",
       "      <td>support</td>\n",
       "      <td>04 story link column advertise second headline...</td>\n",
       "      <td>2776.797631</td>\n",
       "    </tr>\n",
       "    <tr>\n",
       "      <th>5</th>\n",
       "      <td>years</td>\n",
       "      <td>program</td>\n",
       "      <td>climate</td>\n",
       "      <td>change</td>\n",
       "      <td>day</td>\n",
       "      <td>companies</td>\n",
       "      <td>immigrants</td>\n",
       "      <td>05 years program climate change day companies ...</td>\n",
       "      <td>2099.952190</td>\n",
       "    </tr>\n",
       "    <tr>\n",
       "      <th>6</th>\n",
       "      <td>campaign</td>\n",
       "      <td>president</td>\n",
       "      <td>tax</td>\n",
       "      <td>plan</td>\n",
       "      <td>candidate</td>\n",
       "      <td>reading</td>\n",
       "      <td>race</td>\n",
       "      <td>06 campaign president tax plan candidate readi...</td>\n",
       "      <td>2548.417608</td>\n",
       "    </tr>\n",
       "    <tr>\n",
       "      <th>7</th>\n",
       "      <td>school</td>\n",
       "      <td>students</td>\n",
       "      <td>student</td>\n",
       "      <td>college</td>\n",
       "      <td>earnings</td>\n",
       "      <td>schools</td>\n",
       "      <td>people</td>\n",
       "      <td>07 school students student college earnings sc...</td>\n",
       "      <td>2250.310906</td>\n",
       "    </tr>\n",
       "    <tr>\n",
       "      <th>8</th>\n",
       "      <td>case</td>\n",
       "      <td>sex</td>\n",
       "      <td>abuse</td>\n",
       "      <td>assault</td>\n",
       "      <td>years</td>\n",
       "      <td>allegations</td>\n",
       "      <td>traffic</td>\n",
       "      <td>08 case sex abuse assault years allegations tr...</td>\n",
       "      <td>2256.564663</td>\n",
       "    </tr>\n",
       "    <tr>\n",
       "      <th>9</th>\n",
       "      <td>officials</td>\n",
       "      <td>authorities</td>\n",
       "      <td>woman</td>\n",
       "      <td>residents</td>\n",
       "      <td>people</td>\n",
       "      <td>cases</td>\n",
       "      <td>girl</td>\n",
       "      <td>09 officials authorities woman residents peopl...</td>\n",
       "      <td>2275.609880</td>\n",
       "    </tr>\n",
       "    <tr>\n",
       "      <th>10</th>\n",
       "      <td>season</td>\n",
       "      <td>country</td>\n",
       "      <td>star</td>\n",
       "      <td>talks</td>\n",
       "      <td>host</td>\n",
       "      <td>field</td>\n",
       "      <td>time</td>\n",
       "      <td>10 season country star talks host field time</td>\n",
       "      <td>2091.409884</td>\n",
       "    </tr>\n",
       "    <tr>\n",
       "      <th>11</th>\n",
       "      <td>credit</td>\n",
       "      <td>image</td>\n",
       "      <td>court</td>\n",
       "      <td>administration</td>\n",
       "      <td>order</td>\n",
       "      <td>decision</td>\n",
       "      <td>law</td>\n",
       "      <td>11 credit image court administration order dec...</td>\n",
       "      <td>2555.068131</td>\n",
       "    </tr>\n",
       "    <tr>\n",
       "      <th>12</th>\n",
       "      <td>forces</td>\n",
       "      <td>water</td>\n",
       "      <td>weekend</td>\n",
       "      <td>coach</td>\n",
       "      <td>people</td>\n",
       "      <td>countrys</td>\n",
       "      <td>air</td>\n",
       "      <td>12 forces water weekend coach people countrys air</td>\n",
       "      <td>2383.218843</td>\n",
       "    </tr>\n",
       "    <tr>\n",
       "      <th>13</th>\n",
       "      <td>minister</td>\n",
       "      <td>investigation</td>\n",
       "      <td>meeting</td>\n",
       "      <td>time</td>\n",
       "      <td>report</td>\n",
       "      <td>week</td>\n",
       "      <td>committee</td>\n",
       "      <td>13 minister investigation meeting time report ...</td>\n",
       "      <td>2645.092634</td>\n",
       "    </tr>\n",
       "    <tr>\n",
       "      <th>14</th>\n",
       "      <td>state</td>\n",
       "      <td>people</td>\n",
       "      <td>percent</td>\n",
       "      <td>voters</td>\n",
       "      <td>election</td>\n",
       "      <td>women</td>\n",
       "      <td>rights</td>\n",
       "      <td>14 state people percent voters election women ...</td>\n",
       "      <td>2488.362256</td>\n",
       "    </tr>\n",
       "    <tr>\n",
       "      <th>15</th>\n",
       "      <td>year</td>\n",
       "      <td>company</td>\n",
       "      <td>state</td>\n",
       "      <td>lawmakers</td>\n",
       "      <td>oil</td>\n",
       "      <td>credit</td>\n",
       "      <td>image</td>\n",
       "      <td>15 year company state lawmakers oil credit image</td>\n",
       "      <td>2653.268250</td>\n",
       "    </tr>\n",
       "    <tr>\n",
       "      <th>16</th>\n",
       "      <td>people</td>\n",
       "      <td>home</td>\n",
       "      <td>building</td>\n",
       "      <td>person</td>\n",
       "      <td>authorities</td>\n",
       "      <td>train</td>\n",
       "      <td>work</td>\n",
       "      <td>16 people home building person authorities tra...</td>\n",
       "      <td>2108.424322</td>\n",
       "    </tr>\n",
       "    <tr>\n",
       "      <th>17</th>\n",
       "      <td>week</td>\n",
       "      <td>attack</td>\n",
       "      <td>officials</td>\n",
       "      <td>people</td>\n",
       "      <td>state</td>\n",
       "      <td>workers</td>\n",
       "      <td>health</td>\n",
       "      <td>17 week attack officials people state workers ...</td>\n",
       "      <td>2588.303362</td>\n",
       "    </tr>\n",
       "    <tr>\n",
       "      <th>18</th>\n",
       "      <td>election</td>\n",
       "      <td>trade</td>\n",
       "      <td>party</td>\n",
       "      <td>president</td>\n",
       "      <td>war</td>\n",
       "      <td>opposition</td>\n",
       "      <td>victory</td>\n",
       "      <td>18 election trade party president war oppositi...</td>\n",
       "      <td>2279.822944</td>\n",
       "    </tr>\n",
       "    <tr>\n",
       "      <th>19</th>\n",
       "      <td>coverage</td>\n",
       "      <td>sales</td>\n",
       "      <td>space</td>\n",
       "      <td>years</td>\n",
       "      <td>week</td>\n",
       "      <td>actor</td>\n",
       "      <td>study</td>\n",
       "      <td>19 coverage sales space years week actor study</td>\n",
       "      <td>2236.601455</td>\n",
       "    </tr>\n",
       "  </tbody>\n",
       "</table>\n",
       "</div>"
      ],
      "text/plain": [
       "term_str           0              1              2               3  \\\n",
       "topic_id                                                             \n",
       "0               deal           game          trial          points   \n",
       "1                man         police    authorities           death   \n",
       "2         government         border          state          budget   \n",
       "3               news          media  investigation        articles   \n",
       "4              story           link         column       advertise   \n",
       "5              years        program        climate          change   \n",
       "6           campaign      president            tax            plan   \n",
       "7             school       students        student         college   \n",
       "8               case            sex          abuse         assault   \n",
       "9          officials    authorities          woman       residents   \n",
       "10            season        country           star           talks   \n",
       "11            credit          image          court  administration   \n",
       "12            forces          water        weekend           coach   \n",
       "13          minister  investigation        meeting            time   \n",
       "14             state         people        percent          voters   \n",
       "15              year        company          state       lawmakers   \n",
       "16            people           home       building          person   \n",
       "17              week         attack      officials          people   \n",
       "18          election          trade          party       president   \n",
       "19          coverage          sales          space           years   \n",
       "\n",
       "term_str            4            5           6  \\\n",
       "topic_id                                         \n",
       "0            coverage          law       stock   \n",
       "1               woman       prison     officer   \n",
       "2                wall    emergency       night   \n",
       "3            security       people       press   \n",
       "4              second     headline     support   \n",
       "5                 day    companies  immigrants   \n",
       "6           candidate      reading        race   \n",
       "7            earnings      schools      people   \n",
       "8               years  allegations     traffic   \n",
       "9              people        cases        girl   \n",
       "10               host        field        time   \n",
       "11              order     decision         law   \n",
       "12             people     countrys         air   \n",
       "13             report         week   committee   \n",
       "14           election        women      rights   \n",
       "15                oil       credit       image   \n",
       "16        authorities        train        work   \n",
       "17              state      workers      health   \n",
       "18                war   opposition     victory   \n",
       "19               week        actor       study   \n",
       "\n",
       "term_str                                              label  doc_weight_sum  \n",
       "topic_id                                                                     \n",
       "0              00 deal game trial points coverage law stock     2021.935317  \n",
       "1         01 man police authorities death woman prison o...     4718.925643  \n",
       "2         02 government border state budget wall emergen...     2212.921888  \n",
       "3         03 news media investigation articles security ...     2098.992193  \n",
       "4         04 story link column advertise second headline...     2776.797631  \n",
       "5         05 years program climate change day companies ...     2099.952190  \n",
       "6         06 campaign president tax plan candidate readi...     2548.417608  \n",
       "7         07 school students student college earnings sc...     2250.310906  \n",
       "8         08 case sex abuse assault years allegations tr...     2256.564663  \n",
       "9         09 officials authorities woman residents peopl...     2275.609880  \n",
       "10             10 season country star talks host field time     2091.409884  \n",
       "11        11 credit image court administration order dec...     2555.068131  \n",
       "12        12 forces water weekend coach people countrys air     2383.218843  \n",
       "13        13 minister investigation meeting time report ...     2645.092634  \n",
       "14        14 state people percent voters election women ...     2488.362256  \n",
       "15         15 year company state lawmakers oil credit image     2653.268250  \n",
       "16        16 people home building person authorities tra...     2108.424322  \n",
       "17        17 week attack officials people state workers ...     2588.303362  \n",
       "18        18 election trade party president war oppositi...     2279.822944  \n",
       "19           19 coverage sales space years week actor study     2236.601455  "
      ]
     },
     "execution_count": 13,
     "metadata": {},
     "output_type": "execute_result"
    }
   ],
   "source": [
    "TOPICS=M.TOPICS\n",
    "TOPICS"
   ]
  },
  {
   "cell_type": "code",
   "execution_count": 14,
   "id": "99cebfce",
   "metadata": {},
   "outputs": [
    {
     "data": {
      "text/html": [
       "<div>\n",
       "<style scoped>\n",
       "    .dataframe tbody tr th:only-of-type {\n",
       "        vertical-align: middle;\n",
       "    }\n",
       "\n",
       "    .dataframe tbody tr th {\n",
       "        vertical-align: top;\n",
       "    }\n",
       "\n",
       "    .dataframe thead th {\n",
       "        text-align: right;\n",
       "    }\n",
       "</style>\n",
       "<table border=\"1\" class=\"dataframe\">\n",
       "  <thead>\n",
       "    <tr style=\"text-align: right;\">\n",
       "      <th></th>\n",
       "      <th>topic_id</th>\n",
       "      <th>0</th>\n",
       "      <th>1</th>\n",
       "      <th>2</th>\n",
       "      <th>3</th>\n",
       "      <th>4</th>\n",
       "      <th>5</th>\n",
       "      <th>6</th>\n",
       "      <th>7</th>\n",
       "      <th>8</th>\n",
       "      <th>9</th>\n",
       "      <th>10</th>\n",
       "      <th>11</th>\n",
       "      <th>12</th>\n",
       "      <th>13</th>\n",
       "      <th>14</th>\n",
       "      <th>15</th>\n",
       "      <th>16</th>\n",
       "      <th>17</th>\n",
       "      <th>18</th>\n",
       "      <th>19</th>\n",
       "    </tr>\n",
       "    <tr>\n",
       "      <th>doc_id</th>\n",
       "      <th>doc_source</th>\n",
       "      <th></th>\n",
       "      <th></th>\n",
       "      <th></th>\n",
       "      <th></th>\n",
       "      <th></th>\n",
       "      <th></th>\n",
       "      <th></th>\n",
       "      <th></th>\n",
       "      <th></th>\n",
       "      <th></th>\n",
       "      <th></th>\n",
       "      <th></th>\n",
       "      <th></th>\n",
       "      <th></th>\n",
       "      <th></th>\n",
       "      <th></th>\n",
       "      <th></th>\n",
       "      <th></th>\n",
       "      <th></th>\n",
       "      <th></th>\n",
       "    </tr>\n",
       "  </thead>\n",
       "  <tbody>\n",
       "    <tr>\n",
       "      <th>23</th>\n",
       "      <th>Google News</th>\n",
       "      <td>0.116042</td>\n",
       "      <td>0.003846</td>\n",
       "      <td>0.380782</td>\n",
       "      <td>0.215584</td>\n",
       "      <td>0.003846</td>\n",
       "      <td>0.003846</td>\n",
       "      <td>0.003846</td>\n",
       "      <td>0.003846</td>\n",
       "      <td>0.003846</td>\n",
       "      <td>0.003846</td>\n",
       "      <td>0.003846</td>\n",
       "      <td>0.003846</td>\n",
       "      <td>0.003846</td>\n",
       "      <td>0.003846</td>\n",
       "      <td>0.003846</td>\n",
       "      <td>0.003846</td>\n",
       "      <td>0.003846</td>\n",
       "      <td>0.003846</td>\n",
       "      <td>0.003846</td>\n",
       "      <td>0.226053</td>\n",
       "    </tr>\n",
       "    <tr>\n",
       "      <th>42</th>\n",
       "      <th>Google News</th>\n",
       "      <td>0.005000</td>\n",
       "      <td>0.005000</td>\n",
       "      <td>0.219991</td>\n",
       "      <td>0.579468</td>\n",
       "      <td>0.005000</td>\n",
       "      <td>0.005000</td>\n",
       "      <td>0.005000</td>\n",
       "      <td>0.005000</td>\n",
       "      <td>0.005000</td>\n",
       "      <td>0.005000</td>\n",
       "      <td>0.005000</td>\n",
       "      <td>0.005000</td>\n",
       "      <td>0.115541</td>\n",
       "      <td>0.005000</td>\n",
       "      <td>0.005000</td>\n",
       "      <td>0.005000</td>\n",
       "      <td>0.005000</td>\n",
       "      <td>0.005000</td>\n",
       "      <td>0.005000</td>\n",
       "      <td>0.005000</td>\n",
       "    </tr>\n",
       "    <tr>\n",
       "      <th>52</th>\n",
       "      <th>PowerLine</th>\n",
       "      <td>0.103175</td>\n",
       "      <td>0.045346</td>\n",
       "      <td>0.000633</td>\n",
       "      <td>0.000633</td>\n",
       "      <td>0.000633</td>\n",
       "      <td>0.000633</td>\n",
       "      <td>0.000633</td>\n",
       "      <td>0.000633</td>\n",
       "      <td>0.000633</td>\n",
       "      <td>0.000633</td>\n",
       "      <td>0.462802</td>\n",
       "      <td>0.000633</td>\n",
       "      <td>0.000633</td>\n",
       "      <td>0.000633</td>\n",
       "      <td>0.335747</td>\n",
       "      <td>0.043436</td>\n",
       "      <td>0.000633</td>\n",
       "      <td>0.000633</td>\n",
       "      <td>0.000633</td>\n",
       "      <td>0.000633</td>\n",
       "    </tr>\n",
       "    <tr>\n",
       "      <th>81</th>\n",
       "      <th>Guardian</th>\n",
       "      <td>0.000321</td>\n",
       "      <td>0.000321</td>\n",
       "      <td>0.000321</td>\n",
       "      <td>0.000321</td>\n",
       "      <td>0.000321</td>\n",
       "      <td>0.680926</td>\n",
       "      <td>0.000321</td>\n",
       "      <td>0.000321</td>\n",
       "      <td>0.000321</td>\n",
       "      <td>0.000321</td>\n",
       "      <td>0.000321</td>\n",
       "      <td>0.078916</td>\n",
       "      <td>0.000321</td>\n",
       "      <td>0.022891</td>\n",
       "      <td>0.198078</td>\n",
       "      <td>0.000321</td>\n",
       "      <td>0.000321</td>\n",
       "      <td>0.014381</td>\n",
       "      <td>0.000321</td>\n",
       "      <td>0.000321</td>\n",
       "    </tr>\n",
       "    <tr>\n",
       "      <th>87</th>\n",
       "      <th>Guardian</th>\n",
       "      <td>0.000385</td>\n",
       "      <td>0.000385</td>\n",
       "      <td>0.000385</td>\n",
       "      <td>0.000385</td>\n",
       "      <td>0.000385</td>\n",
       "      <td>0.000385</td>\n",
       "      <td>0.000385</td>\n",
       "      <td>0.000385</td>\n",
       "      <td>0.000385</td>\n",
       "      <td>0.000385</td>\n",
       "      <td>0.000385</td>\n",
       "      <td>0.000385</td>\n",
       "      <td>0.000385</td>\n",
       "      <td>0.000385</td>\n",
       "      <td>0.869871</td>\n",
       "      <td>0.108991</td>\n",
       "      <td>0.000385</td>\n",
       "      <td>0.000385</td>\n",
       "      <td>0.000385</td>\n",
       "      <td>0.014599</td>\n",
       "    </tr>\n",
       "    <tr>\n",
       "      <th>...</th>\n",
       "      <th>...</th>\n",
       "      <td>...</td>\n",
       "      <td>...</td>\n",
       "      <td>...</td>\n",
       "      <td>...</td>\n",
       "      <td>...</td>\n",
       "      <td>...</td>\n",
       "      <td>...</td>\n",
       "      <td>...</td>\n",
       "      <td>...</td>\n",
       "      <td>...</td>\n",
       "      <td>...</td>\n",
       "      <td>...</td>\n",
       "      <td>...</td>\n",
       "      <td>...</td>\n",
       "      <td>...</td>\n",
       "      <td>...</td>\n",
       "      <td>...</td>\n",
       "      <td>...</td>\n",
       "      <td>...</td>\n",
       "      <td>...</td>\n",
       "    </tr>\n",
       "    <tr>\n",
       "      <th>1026234</th>\n",
       "      <th>US News</th>\n",
       "      <td>0.597850</td>\n",
       "      <td>0.008333</td>\n",
       "      <td>0.008333</td>\n",
       "      <td>0.008333</td>\n",
       "      <td>0.008333</td>\n",
       "      <td>0.008333</td>\n",
       "      <td>0.008333</td>\n",
       "      <td>0.008333</td>\n",
       "      <td>0.008333</td>\n",
       "      <td>0.008333</td>\n",
       "      <td>0.252150</td>\n",
       "      <td>0.008333</td>\n",
       "      <td>0.008333</td>\n",
       "      <td>0.008333</td>\n",
       "      <td>0.008333</td>\n",
       "      <td>0.008333</td>\n",
       "      <td>0.008333</td>\n",
       "      <td>0.008333</td>\n",
       "      <td>0.008333</td>\n",
       "      <td>0.008333</td>\n",
       "    </tr>\n",
       "    <tr>\n",
       "      <th>1026260</th>\n",
       "      <th>US News</th>\n",
       "      <td>0.005000</td>\n",
       "      <td>0.005000</td>\n",
       "      <td>0.005000</td>\n",
       "      <td>0.005000</td>\n",
       "      <td>0.005000</td>\n",
       "      <td>0.375058</td>\n",
       "      <td>0.005000</td>\n",
       "      <td>0.005000</td>\n",
       "      <td>0.005000</td>\n",
       "      <td>0.534942</td>\n",
       "      <td>0.005000</td>\n",
       "      <td>0.005000</td>\n",
       "      <td>0.005000</td>\n",
       "      <td>0.005000</td>\n",
       "      <td>0.005000</td>\n",
       "      <td>0.005000</td>\n",
       "      <td>0.005000</td>\n",
       "      <td>0.005000</td>\n",
       "      <td>0.005000</td>\n",
       "      <td>0.005000</td>\n",
       "    </tr>\n",
       "    <tr>\n",
       "      <th>1026320</th>\n",
       "      <th>Fox</th>\n",
       "      <td>0.007143</td>\n",
       "      <td>0.007143</td>\n",
       "      <td>0.007143</td>\n",
       "      <td>0.007143</td>\n",
       "      <td>0.007143</td>\n",
       "      <td>0.007143</td>\n",
       "      <td>0.007143</td>\n",
       "      <td>0.007143</td>\n",
       "      <td>0.007143</td>\n",
       "      <td>0.864286</td>\n",
       "      <td>0.007143</td>\n",
       "      <td>0.007143</td>\n",
       "      <td>0.007143</td>\n",
       "      <td>0.007143</td>\n",
       "      <td>0.007143</td>\n",
       "      <td>0.007143</td>\n",
       "      <td>0.007143</td>\n",
       "      <td>0.007143</td>\n",
       "      <td>0.007143</td>\n",
       "      <td>0.007143</td>\n",
       "    </tr>\n",
       "    <tr>\n",
       "      <th>1026322</th>\n",
       "      <th>Fox</th>\n",
       "      <td>0.008333</td>\n",
       "      <td>0.008333</td>\n",
       "      <td>0.008333</td>\n",
       "      <td>0.008333</td>\n",
       "      <td>0.008333</td>\n",
       "      <td>0.008333</td>\n",
       "      <td>0.008333</td>\n",
       "      <td>0.008333</td>\n",
       "      <td>0.008333</td>\n",
       "      <td>0.669326</td>\n",
       "      <td>0.008333</td>\n",
       "      <td>0.180674</td>\n",
       "      <td>0.008333</td>\n",
       "      <td>0.008333</td>\n",
       "      <td>0.008333</td>\n",
       "      <td>0.008333</td>\n",
       "      <td>0.008333</td>\n",
       "      <td>0.008333</td>\n",
       "      <td>0.008333</td>\n",
       "      <td>0.008333</td>\n",
       "    </tr>\n",
       "    <tr>\n",
       "      <th>1026343</th>\n",
       "      <th>UPI Latest</th>\n",
       "      <td>0.016667</td>\n",
       "      <td>0.016667</td>\n",
       "      <td>0.016667</td>\n",
       "      <td>0.016667</td>\n",
       "      <td>0.016667</td>\n",
       "      <td>0.016667</td>\n",
       "      <td>0.016667</td>\n",
       "      <td>0.016667</td>\n",
       "      <td>0.016667</td>\n",
       "      <td>0.016667</td>\n",
       "      <td>0.016667</td>\n",
       "      <td>0.016667</td>\n",
       "      <td>0.016667</td>\n",
       "      <td>0.016667</td>\n",
       "      <td>0.016667</td>\n",
       "      <td>0.016667</td>\n",
       "      <td>0.016667</td>\n",
       "      <td>0.016667</td>\n",
       "      <td>0.016667</td>\n",
       "      <td>0.683333</td>\n",
       "    </tr>\n",
       "  </tbody>\n",
       "</table>\n",
       "<p>49290 rows × 20 columns</p>\n",
       "</div>"
      ],
      "text/plain": [
       "topic_id                    0         1         2         3         4  \\\n",
       "doc_id  doc_source                                                      \n",
       "23      Google News  0.116042  0.003846  0.380782  0.215584  0.003846   \n",
       "42      Google News  0.005000  0.005000  0.219991  0.579468  0.005000   \n",
       "52      PowerLine    0.103175  0.045346  0.000633  0.000633  0.000633   \n",
       "81      Guardian     0.000321  0.000321  0.000321  0.000321  0.000321   \n",
       "87      Guardian     0.000385  0.000385  0.000385  0.000385  0.000385   \n",
       "...                       ...       ...       ...       ...       ...   \n",
       "1026234 US News      0.597850  0.008333  0.008333  0.008333  0.008333   \n",
       "1026260 US News      0.005000  0.005000  0.005000  0.005000  0.005000   \n",
       "1026320 Fox          0.007143  0.007143  0.007143  0.007143  0.007143   \n",
       "1026322 Fox          0.008333  0.008333  0.008333  0.008333  0.008333   \n",
       "1026343 UPI Latest   0.016667  0.016667  0.016667  0.016667  0.016667   \n",
       "\n",
       "topic_id                    5         6         7         8         9  \\\n",
       "doc_id  doc_source                                                      \n",
       "23      Google News  0.003846  0.003846  0.003846  0.003846  0.003846   \n",
       "42      Google News  0.005000  0.005000  0.005000  0.005000  0.005000   \n",
       "52      PowerLine    0.000633  0.000633  0.000633  0.000633  0.000633   \n",
       "81      Guardian     0.680926  0.000321  0.000321  0.000321  0.000321   \n",
       "87      Guardian     0.000385  0.000385  0.000385  0.000385  0.000385   \n",
       "...                       ...       ...       ...       ...       ...   \n",
       "1026234 US News      0.008333  0.008333  0.008333  0.008333  0.008333   \n",
       "1026260 US News      0.375058  0.005000  0.005000  0.005000  0.534942   \n",
       "1026320 Fox          0.007143  0.007143  0.007143  0.007143  0.864286   \n",
       "1026322 Fox          0.008333  0.008333  0.008333  0.008333  0.669326   \n",
       "1026343 UPI Latest   0.016667  0.016667  0.016667  0.016667  0.016667   \n",
       "\n",
       "topic_id                   10        11        12        13        14  \\\n",
       "doc_id  doc_source                                                      \n",
       "23      Google News  0.003846  0.003846  0.003846  0.003846  0.003846   \n",
       "42      Google News  0.005000  0.005000  0.115541  0.005000  0.005000   \n",
       "52      PowerLine    0.462802  0.000633  0.000633  0.000633  0.335747   \n",
       "81      Guardian     0.000321  0.078916  0.000321  0.022891  0.198078   \n",
       "87      Guardian     0.000385  0.000385  0.000385  0.000385  0.869871   \n",
       "...                       ...       ...       ...       ...       ...   \n",
       "1026234 US News      0.252150  0.008333  0.008333  0.008333  0.008333   \n",
       "1026260 US News      0.005000  0.005000  0.005000  0.005000  0.005000   \n",
       "1026320 Fox          0.007143  0.007143  0.007143  0.007143  0.007143   \n",
       "1026322 Fox          0.008333  0.180674  0.008333  0.008333  0.008333   \n",
       "1026343 UPI Latest   0.016667  0.016667  0.016667  0.016667  0.016667   \n",
       "\n",
       "topic_id                   15        16        17        18        19  \n",
       "doc_id  doc_source                                                     \n",
       "23      Google News  0.003846  0.003846  0.003846  0.003846  0.226053  \n",
       "42      Google News  0.005000  0.005000  0.005000  0.005000  0.005000  \n",
       "52      PowerLine    0.043436  0.000633  0.000633  0.000633  0.000633  \n",
       "81      Guardian     0.000321  0.000321  0.014381  0.000321  0.000321  \n",
       "87      Guardian     0.108991  0.000385  0.000385  0.000385  0.014599  \n",
       "...                       ...       ...       ...       ...       ...  \n",
       "1026234 US News      0.008333  0.008333  0.008333  0.008333  0.008333  \n",
       "1026260 US News      0.005000  0.005000  0.005000  0.005000  0.005000  \n",
       "1026320 Fox          0.007143  0.007143  0.007143  0.007143  0.007143  \n",
       "1026322 Fox          0.008333  0.008333  0.008333  0.008333  0.008333  \n",
       "1026343 UPI Latest   0.016667  0.016667  0.016667  0.016667  0.683333  \n",
       "\n",
       "[49290 rows x 20 columns]"
      ]
     },
     "execution_count": 14,
     "metadata": {},
     "output_type": "execute_result"
    }
   ],
   "source": [
    "THETA=M.THETA\n",
    "THETA"
   ]
  },
  {
   "cell_type": "code",
   "execution_count": 15,
   "id": "0590a314",
   "metadata": {},
   "outputs": [
    {
     "data": {
      "text/html": [
       "<div>\n",
       "<style scoped>\n",
       "    .dataframe tbody tr th:only-of-type {\n",
       "        vertical-align: middle;\n",
       "    }\n",
       "\n",
       "    .dataframe tbody tr th {\n",
       "        vertical-align: top;\n",
       "    }\n",
       "\n",
       "    .dataframe thead th {\n",
       "        text-align: right;\n",
       "    }\n",
       "</style>\n",
       "<table border=\"1\" class=\"dataframe\">\n",
       "  <thead>\n",
       "    <tr style=\"text-align: right;\">\n",
       "      <th>term_str</th>\n",
       "      <th>100000</th>\n",
       "      <th>3pointers</th>\n",
       "      <th>49ers</th>\n",
       "      <th>500000</th>\n",
       "      <th>76ers</th>\n",
       "      <th>ab</th>\n",
       "      <th>abduction</th>\n",
       "      <th>ability</th>\n",
       "      <th>abortion</th>\n",
       "      <th>abortions</th>\n",
       "      <th>...</th>\n",
       "      <th>youll</th>\n",
       "      <th>young</th>\n",
       "      <th>youre</th>\n",
       "      <th>youth</th>\n",
       "      <th>youths</th>\n",
       "      <th>youve</th>\n",
       "      <th>zero</th>\n",
       "      <th>zone</th>\n",
       "      <th>zones</th>\n",
       "      <th>zoo</th>\n",
       "    </tr>\n",
       "    <tr>\n",
       "      <th>topic_id</th>\n",
       "      <th></th>\n",
       "      <th></th>\n",
       "      <th></th>\n",
       "      <th></th>\n",
       "      <th></th>\n",
       "      <th></th>\n",
       "      <th></th>\n",
       "      <th></th>\n",
       "      <th></th>\n",
       "      <th></th>\n",
       "      <th></th>\n",
       "      <th></th>\n",
       "      <th></th>\n",
       "      <th></th>\n",
       "      <th></th>\n",
       "      <th></th>\n",
       "      <th></th>\n",
       "      <th></th>\n",
       "      <th></th>\n",
       "      <th></th>\n",
       "      <th></th>\n",
       "    </tr>\n",
       "  </thead>\n",
       "  <tbody>\n",
       "    <tr>\n",
       "      <th>0</th>\n",
       "      <td>0.050000</td>\n",
       "      <td>0.05</td>\n",
       "      <td>2.322354</td>\n",
       "      <td>5.044000</td>\n",
       "      <td>0.05</td>\n",
       "      <td>0.050000</td>\n",
       "      <td>0.050000</td>\n",
       "      <td>0.050000</td>\n",
       "      <td>16.472382</td>\n",
       "      <td>12.270463</td>\n",
       "      <td>...</td>\n",
       "      <td>0.050000</td>\n",
       "      <td>0.050000</td>\n",
       "      <td>0.050000</td>\n",
       "      <td>0.050001</td>\n",
       "      <td>0.050000</td>\n",
       "      <td>0.423996</td>\n",
       "      <td>2.282459</td>\n",
       "      <td>0.050000</td>\n",
       "      <td>0.050000</td>\n",
       "      <td>0.050000</td>\n",
       "    </tr>\n",
       "    <tr>\n",
       "      <th>1</th>\n",
       "      <td>8.671345</td>\n",
       "      <td>0.05</td>\n",
       "      <td>0.050000</td>\n",
       "      <td>0.050000</td>\n",
       "      <td>0.05</td>\n",
       "      <td>0.050000</td>\n",
       "      <td>10.960599</td>\n",
       "      <td>0.051600</td>\n",
       "      <td>0.050000</td>\n",
       "      <td>0.059887</td>\n",
       "      <td>...</td>\n",
       "      <td>0.050000</td>\n",
       "      <td>0.050000</td>\n",
       "      <td>0.050000</td>\n",
       "      <td>0.690028</td>\n",
       "      <td>0.050000</td>\n",
       "      <td>0.050000</td>\n",
       "      <td>0.050000</td>\n",
       "      <td>0.050000</td>\n",
       "      <td>0.050000</td>\n",
       "      <td>0.050000</td>\n",
       "    </tr>\n",
       "    <tr>\n",
       "      <th>2</th>\n",
       "      <td>0.050000</td>\n",
       "      <td>13.05</td>\n",
       "      <td>0.050000</td>\n",
       "      <td>0.050000</td>\n",
       "      <td>0.05</td>\n",
       "      <td>0.050000</td>\n",
       "      <td>0.050000</td>\n",
       "      <td>3.648752</td>\n",
       "      <td>0.050000</td>\n",
       "      <td>0.440942</td>\n",
       "      <td>...</td>\n",
       "      <td>0.050000</td>\n",
       "      <td>0.050000</td>\n",
       "      <td>0.050000</td>\n",
       "      <td>0.050000</td>\n",
       "      <td>0.050000</td>\n",
       "      <td>0.050000</td>\n",
       "      <td>0.050000</td>\n",
       "      <td>3.599531</td>\n",
       "      <td>0.651163</td>\n",
       "      <td>0.056195</td>\n",
       "    </tr>\n",
       "    <tr>\n",
       "      <th>3</th>\n",
       "      <td>0.050000</td>\n",
       "      <td>0.05</td>\n",
       "      <td>0.050000</td>\n",
       "      <td>0.050000</td>\n",
       "      <td>0.05</td>\n",
       "      <td>0.050000</td>\n",
       "      <td>0.050000</td>\n",
       "      <td>0.050000</td>\n",
       "      <td>0.050000</td>\n",
       "      <td>0.050000</td>\n",
       "      <td>...</td>\n",
       "      <td>0.050000</td>\n",
       "      <td>0.050000</td>\n",
       "      <td>2.706064</td>\n",
       "      <td>0.050000</td>\n",
       "      <td>1.049346</td>\n",
       "      <td>0.050000</td>\n",
       "      <td>0.456825</td>\n",
       "      <td>0.050000</td>\n",
       "      <td>10.000257</td>\n",
       "      <td>0.050000</td>\n",
       "    </tr>\n",
       "    <tr>\n",
       "      <th>4</th>\n",
       "      <td>0.050000</td>\n",
       "      <td>0.05</td>\n",
       "      <td>0.050000</td>\n",
       "      <td>0.050000</td>\n",
       "      <td>0.05</td>\n",
       "      <td>0.050000</td>\n",
       "      <td>0.050000</td>\n",
       "      <td>0.214512</td>\n",
       "      <td>0.050000</td>\n",
       "      <td>0.050000</td>\n",
       "      <td>...</td>\n",
       "      <td>0.050000</td>\n",
       "      <td>5.399635</td>\n",
       "      <td>0.050000</td>\n",
       "      <td>0.593451</td>\n",
       "      <td>0.050000</td>\n",
       "      <td>0.050000</td>\n",
       "      <td>0.050000</td>\n",
       "      <td>0.050000</td>\n",
       "      <td>0.050000</td>\n",
       "      <td>2.696106</td>\n",
       "    </tr>\n",
       "    <tr>\n",
       "      <th>5</th>\n",
       "      <td>0.050000</td>\n",
       "      <td>0.05</td>\n",
       "      <td>9.948503</td>\n",
       "      <td>0.050000</td>\n",
       "      <td>0.05</td>\n",
       "      <td>0.050000</td>\n",
       "      <td>0.050000</td>\n",
       "      <td>1.962257</td>\n",
       "      <td>0.051543</td>\n",
       "      <td>0.050000</td>\n",
       "      <td>...</td>\n",
       "      <td>0.050000</td>\n",
       "      <td>0.050000</td>\n",
       "      <td>7.647700</td>\n",
       "      <td>4.854318</td>\n",
       "      <td>0.050000</td>\n",
       "      <td>0.050000</td>\n",
       "      <td>0.050000</td>\n",
       "      <td>0.050001</td>\n",
       "      <td>0.050000</td>\n",
       "      <td>0.050000</td>\n",
       "    </tr>\n",
       "    <tr>\n",
       "      <th>6</th>\n",
       "      <td>0.050000</td>\n",
       "      <td>0.05</td>\n",
       "      <td>0.050000</td>\n",
       "      <td>0.050000</td>\n",
       "      <td>0.05</td>\n",
       "      <td>0.050000</td>\n",
       "      <td>0.050000</td>\n",
       "      <td>8.118350</td>\n",
       "      <td>4.630611</td>\n",
       "      <td>0.050000</td>\n",
       "      <td>...</td>\n",
       "      <td>0.050000</td>\n",
       "      <td>4.501143</td>\n",
       "      <td>0.050000</td>\n",
       "      <td>1.552383</td>\n",
       "      <td>0.057033</td>\n",
       "      <td>0.050000</td>\n",
       "      <td>0.050000</td>\n",
       "      <td>2.945503</td>\n",
       "      <td>0.050000</td>\n",
       "      <td>0.050000</td>\n",
       "    </tr>\n",
       "    <tr>\n",
       "      <th>7</th>\n",
       "      <td>5.402120</td>\n",
       "      <td>0.05</td>\n",
       "      <td>0.050000</td>\n",
       "      <td>0.050000</td>\n",
       "      <td>0.05</td>\n",
       "      <td>45.049984</td>\n",
       "      <td>0.050000</td>\n",
       "      <td>0.050000</td>\n",
       "      <td>23.225842</td>\n",
       "      <td>0.678571</td>\n",
       "      <td>...</td>\n",
       "      <td>0.502025</td>\n",
       "      <td>0.050000</td>\n",
       "      <td>0.050000</td>\n",
       "      <td>0.050000</td>\n",
       "      <td>4.041828</td>\n",
       "      <td>0.050000</td>\n",
       "      <td>2.077375</td>\n",
       "      <td>5.321335</td>\n",
       "      <td>0.050000</td>\n",
       "      <td>0.050000</td>\n",
       "    </tr>\n",
       "    <tr>\n",
       "      <th>8</th>\n",
       "      <td>0.050000</td>\n",
       "      <td>0.05</td>\n",
       "      <td>0.050000</td>\n",
       "      <td>0.050000</td>\n",
       "      <td>0.05</td>\n",
       "      <td>0.050016</td>\n",
       "      <td>0.050000</td>\n",
       "      <td>0.050000</td>\n",
       "      <td>0.292887</td>\n",
       "      <td>0.050000</td>\n",
       "      <td>...</td>\n",
       "      <td>0.050000</td>\n",
       "      <td>0.050000</td>\n",
       "      <td>2.329056</td>\n",
       "      <td>30.333053</td>\n",
       "      <td>0.050000</td>\n",
       "      <td>2.124573</td>\n",
       "      <td>0.050000</td>\n",
       "      <td>7.346649</td>\n",
       "      <td>0.050000</td>\n",
       "      <td>0.050000</td>\n",
       "    </tr>\n",
       "    <tr>\n",
       "      <th>9</th>\n",
       "      <td>0.050000</td>\n",
       "      <td>0.05</td>\n",
       "      <td>0.050000</td>\n",
       "      <td>0.050000</td>\n",
       "      <td>0.05</td>\n",
       "      <td>0.050000</td>\n",
       "      <td>1.139401</td>\n",
       "      <td>1.835544</td>\n",
       "      <td>0.050000</td>\n",
       "      <td>0.050000</td>\n",
       "      <td>...</td>\n",
       "      <td>0.050000</td>\n",
       "      <td>0.050000</td>\n",
       "      <td>0.050000</td>\n",
       "      <td>7.268132</td>\n",
       "      <td>8.047336</td>\n",
       "      <td>0.053525</td>\n",
       "      <td>0.050000</td>\n",
       "      <td>2.545459</td>\n",
       "      <td>0.050000</td>\n",
       "      <td>0.050000</td>\n",
       "    </tr>\n",
       "    <tr>\n",
       "      <th>10</th>\n",
       "      <td>0.050000</td>\n",
       "      <td>0.05</td>\n",
       "      <td>0.650711</td>\n",
       "      <td>0.050000</td>\n",
       "      <td>0.05</td>\n",
       "      <td>0.050000</td>\n",
       "      <td>0.050000</td>\n",
       "      <td>0.120699</td>\n",
       "      <td>0.050000</td>\n",
       "      <td>0.050000</td>\n",
       "      <td>...</td>\n",
       "      <td>0.088473</td>\n",
       "      <td>0.050000</td>\n",
       "      <td>5.573547</td>\n",
       "      <td>0.050007</td>\n",
       "      <td>0.050000</td>\n",
       "      <td>0.050000</td>\n",
       "      <td>0.050000</td>\n",
       "      <td>0.058019</td>\n",
       "      <td>1.594804</td>\n",
       "      <td>0.050000</td>\n",
       "    </tr>\n",
       "    <tr>\n",
       "      <th>11</th>\n",
       "      <td>0.050000</td>\n",
       "      <td>0.05</td>\n",
       "      <td>0.050000</td>\n",
       "      <td>5.439927</td>\n",
       "      <td>0.05</td>\n",
       "      <td>0.050000</td>\n",
       "      <td>0.050000</td>\n",
       "      <td>7.056171</td>\n",
       "      <td>51.729709</td>\n",
       "      <td>17.945269</td>\n",
       "      <td>...</td>\n",
       "      <td>0.050000</td>\n",
       "      <td>4.238392</td>\n",
       "      <td>4.372381</td>\n",
       "      <td>0.050000</td>\n",
       "      <td>0.054451</td>\n",
       "      <td>0.070631</td>\n",
       "      <td>0.304461</td>\n",
       "      <td>0.050000</td>\n",
       "      <td>0.050000</td>\n",
       "      <td>0.057264</td>\n",
       "    </tr>\n",
       "    <tr>\n",
       "      <th>12</th>\n",
       "      <td>0.050000</td>\n",
       "      <td>0.05</td>\n",
       "      <td>5.045834</td>\n",
       "      <td>0.050000</td>\n",
       "      <td>4.05</td>\n",
       "      <td>0.050000</td>\n",
       "      <td>0.050000</td>\n",
       "      <td>0.050000</td>\n",
       "      <td>0.050000</td>\n",
       "      <td>0.050000</td>\n",
       "      <td>...</td>\n",
       "      <td>0.050000</td>\n",
       "      <td>2.050000</td>\n",
       "      <td>0.050000</td>\n",
       "      <td>0.050000</td>\n",
       "      <td>0.050000</td>\n",
       "      <td>0.050000</td>\n",
       "      <td>0.050000</td>\n",
       "      <td>0.050000</td>\n",
       "      <td>0.050000</td>\n",
       "      <td>26.958151</td>\n",
       "    </tr>\n",
       "    <tr>\n",
       "      <th>13</th>\n",
       "      <td>0.050000</td>\n",
       "      <td>1.05</td>\n",
       "      <td>1.183572</td>\n",
       "      <td>0.050000</td>\n",
       "      <td>3.05</td>\n",
       "      <td>0.050000</td>\n",
       "      <td>0.050000</td>\n",
       "      <td>3.075246</td>\n",
       "      <td>0.050000</td>\n",
       "      <td>0.050000</td>\n",
       "      <td>...</td>\n",
       "      <td>0.054479</td>\n",
       "      <td>0.050000</td>\n",
       "      <td>1.847788</td>\n",
       "      <td>0.050000</td>\n",
       "      <td>0.050000</td>\n",
       "      <td>0.050000</td>\n",
       "      <td>0.050000</td>\n",
       "      <td>7.983831</td>\n",
       "      <td>0.353367</td>\n",
       "      <td>0.050000</td>\n",
       "    </tr>\n",
       "    <tr>\n",
       "      <th>14</th>\n",
       "      <td>1.076534</td>\n",
       "      <td>0.05</td>\n",
       "      <td>0.050000</td>\n",
       "      <td>2.305503</td>\n",
       "      <td>0.05</td>\n",
       "      <td>0.050000</td>\n",
       "      <td>0.050000</td>\n",
       "      <td>22.570079</td>\n",
       "      <td>23.660010</td>\n",
       "      <td>0.050103</td>\n",
       "      <td>...</td>\n",
       "      <td>10.014302</td>\n",
       "      <td>1.380093</td>\n",
       "      <td>41.973363</td>\n",
       "      <td>14.058627</td>\n",
       "      <td>0.050000</td>\n",
       "      <td>15.570145</td>\n",
       "      <td>0.050000</td>\n",
       "      <td>1.886224</td>\n",
       "      <td>0.050000</td>\n",
       "      <td>0.050000</td>\n",
       "    </tr>\n",
       "    <tr>\n",
       "      <th>15</th>\n",
       "      <td>0.050000</td>\n",
       "      <td>0.05</td>\n",
       "      <td>0.050000</td>\n",
       "      <td>0.050000</td>\n",
       "      <td>0.05</td>\n",
       "      <td>0.050000</td>\n",
       "      <td>0.050000</td>\n",
       "      <td>9.468515</td>\n",
       "      <td>46.328269</td>\n",
       "      <td>25.402937</td>\n",
       "      <td>...</td>\n",
       "      <td>0.050000</td>\n",
       "      <td>0.050000</td>\n",
       "      <td>0.126094</td>\n",
       "      <td>0.050000</td>\n",
       "      <td>0.050000</td>\n",
       "      <td>0.057130</td>\n",
       "      <td>8.156256</td>\n",
       "      <td>0.050000</td>\n",
       "      <td>4.409643</td>\n",
       "      <td>0.050000</td>\n",
       "    </tr>\n",
       "    <tr>\n",
       "      <th>16</th>\n",
       "      <td>0.050000</td>\n",
       "      <td>0.05</td>\n",
       "      <td>0.149026</td>\n",
       "      <td>0.050000</td>\n",
       "      <td>0.05</td>\n",
       "      <td>0.050000</td>\n",
       "      <td>0.050000</td>\n",
       "      <td>0.050450</td>\n",
       "      <td>0.053729</td>\n",
       "      <td>0.050000</td>\n",
       "      <td>...</td>\n",
       "      <td>3.582622</td>\n",
       "      <td>0.050000</td>\n",
       "      <td>1.874007</td>\n",
       "      <td>0.050000</td>\n",
       "      <td>0.050000</td>\n",
       "      <td>0.050000</td>\n",
       "      <td>0.050000</td>\n",
       "      <td>7.319787</td>\n",
       "      <td>0.050000</td>\n",
       "      <td>1.482285</td>\n",
       "    </tr>\n",
       "    <tr>\n",
       "      <th>17</th>\n",
       "      <td>0.050000</td>\n",
       "      <td>0.05</td>\n",
       "      <td>0.050000</td>\n",
       "      <td>0.050000</td>\n",
       "      <td>0.05</td>\n",
       "      <td>0.050000</td>\n",
       "      <td>0.050000</td>\n",
       "      <td>9.429337</td>\n",
       "      <td>0.055017</td>\n",
       "      <td>1.551827</td>\n",
       "      <td>...</td>\n",
       "      <td>0.050000</td>\n",
       "      <td>6.730737</td>\n",
       "      <td>0.050000</td>\n",
       "      <td>0.050000</td>\n",
       "      <td>0.050000</td>\n",
       "      <td>0.050000</td>\n",
       "      <td>6.022625</td>\n",
       "      <td>0.050000</td>\n",
       "      <td>2.129805</td>\n",
       "      <td>0.050000</td>\n",
       "    </tr>\n",
       "    <tr>\n",
       "      <th>18</th>\n",
       "      <td>0.050000</td>\n",
       "      <td>0.05</td>\n",
       "      <td>0.050000</td>\n",
       "      <td>0.050000</td>\n",
       "      <td>7.05</td>\n",
       "      <td>0.050000</td>\n",
       "      <td>0.050000</td>\n",
       "      <td>0.050000</td>\n",
       "      <td>0.050000</td>\n",
       "      <td>0.050000</td>\n",
       "      <td>...</td>\n",
       "      <td>0.050000</td>\n",
       "      <td>0.050000</td>\n",
       "      <td>0.050000</td>\n",
       "      <td>0.050000</td>\n",
       "      <td>0.050006</td>\n",
       "      <td>0.050000</td>\n",
       "      <td>0.050000</td>\n",
       "      <td>0.050000</td>\n",
       "      <td>0.050000</td>\n",
       "      <td>0.050000</td>\n",
       "    </tr>\n",
       "    <tr>\n",
       "      <th>19</th>\n",
       "      <td>0.050000</td>\n",
       "      <td>0.05</td>\n",
       "      <td>0.050000</td>\n",
       "      <td>0.410569</td>\n",
       "      <td>0.05</td>\n",
       "      <td>0.050000</td>\n",
       "      <td>0.050000</td>\n",
       "      <td>12.098488</td>\n",
       "      <td>0.050000</td>\n",
       "      <td>0.050000</td>\n",
       "      <td>...</td>\n",
       "      <td>0.058098</td>\n",
       "      <td>0.050000</td>\n",
       "      <td>0.050000</td>\n",
       "      <td>0.050000</td>\n",
       "      <td>0.050000</td>\n",
       "      <td>0.050000</td>\n",
       "      <td>0.050000</td>\n",
       "      <td>15.493661</td>\n",
       "      <td>0.210962</td>\n",
       "      <td>0.050000</td>\n",
       "    </tr>\n",
       "  </tbody>\n",
       "</table>\n",
       "<p>20 rows × 4000 columns</p>\n",
       "</div>"
      ],
      "text/plain": [
       "term_str    100000  3pointers     49ers    500000  76ers         ab  \\\n",
       "topic_id                                                              \n",
       "0         0.050000       0.05  2.322354  5.044000   0.05   0.050000   \n",
       "1         8.671345       0.05  0.050000  0.050000   0.05   0.050000   \n",
       "2         0.050000      13.05  0.050000  0.050000   0.05   0.050000   \n",
       "3         0.050000       0.05  0.050000  0.050000   0.05   0.050000   \n",
       "4         0.050000       0.05  0.050000  0.050000   0.05   0.050000   \n",
       "5         0.050000       0.05  9.948503  0.050000   0.05   0.050000   \n",
       "6         0.050000       0.05  0.050000  0.050000   0.05   0.050000   \n",
       "7         5.402120       0.05  0.050000  0.050000   0.05  45.049984   \n",
       "8         0.050000       0.05  0.050000  0.050000   0.05   0.050016   \n",
       "9         0.050000       0.05  0.050000  0.050000   0.05   0.050000   \n",
       "10        0.050000       0.05  0.650711  0.050000   0.05   0.050000   \n",
       "11        0.050000       0.05  0.050000  5.439927   0.05   0.050000   \n",
       "12        0.050000       0.05  5.045834  0.050000   4.05   0.050000   \n",
       "13        0.050000       1.05  1.183572  0.050000   3.05   0.050000   \n",
       "14        1.076534       0.05  0.050000  2.305503   0.05   0.050000   \n",
       "15        0.050000       0.05  0.050000  0.050000   0.05   0.050000   \n",
       "16        0.050000       0.05  0.149026  0.050000   0.05   0.050000   \n",
       "17        0.050000       0.05  0.050000  0.050000   0.05   0.050000   \n",
       "18        0.050000       0.05  0.050000  0.050000   7.05   0.050000   \n",
       "19        0.050000       0.05  0.050000  0.410569   0.05   0.050000   \n",
       "\n",
       "term_str  abduction    ability   abortion  abortions  ...      youll  \\\n",
       "topic_id                                              ...              \n",
       "0          0.050000   0.050000  16.472382  12.270463  ...   0.050000   \n",
       "1         10.960599   0.051600   0.050000   0.059887  ...   0.050000   \n",
       "2          0.050000   3.648752   0.050000   0.440942  ...   0.050000   \n",
       "3          0.050000   0.050000   0.050000   0.050000  ...   0.050000   \n",
       "4          0.050000   0.214512   0.050000   0.050000  ...   0.050000   \n",
       "5          0.050000   1.962257   0.051543   0.050000  ...   0.050000   \n",
       "6          0.050000   8.118350   4.630611   0.050000  ...   0.050000   \n",
       "7          0.050000   0.050000  23.225842   0.678571  ...   0.502025   \n",
       "8          0.050000   0.050000   0.292887   0.050000  ...   0.050000   \n",
       "9          1.139401   1.835544   0.050000   0.050000  ...   0.050000   \n",
       "10         0.050000   0.120699   0.050000   0.050000  ...   0.088473   \n",
       "11         0.050000   7.056171  51.729709  17.945269  ...   0.050000   \n",
       "12         0.050000   0.050000   0.050000   0.050000  ...   0.050000   \n",
       "13         0.050000   3.075246   0.050000   0.050000  ...   0.054479   \n",
       "14         0.050000  22.570079  23.660010   0.050103  ...  10.014302   \n",
       "15         0.050000   9.468515  46.328269  25.402937  ...   0.050000   \n",
       "16         0.050000   0.050450   0.053729   0.050000  ...   3.582622   \n",
       "17         0.050000   9.429337   0.055017   1.551827  ...   0.050000   \n",
       "18         0.050000   0.050000   0.050000   0.050000  ...   0.050000   \n",
       "19         0.050000  12.098488   0.050000   0.050000  ...   0.058098   \n",
       "\n",
       "term_str     young      youre      youth    youths      youve      zero  \\\n",
       "topic_id                                                                  \n",
       "0         0.050000   0.050000   0.050001  0.050000   0.423996  2.282459   \n",
       "1         0.050000   0.050000   0.690028  0.050000   0.050000  0.050000   \n",
       "2         0.050000   0.050000   0.050000  0.050000   0.050000  0.050000   \n",
       "3         0.050000   2.706064   0.050000  1.049346   0.050000  0.456825   \n",
       "4         5.399635   0.050000   0.593451  0.050000   0.050000  0.050000   \n",
       "5         0.050000   7.647700   4.854318  0.050000   0.050000  0.050000   \n",
       "6         4.501143   0.050000   1.552383  0.057033   0.050000  0.050000   \n",
       "7         0.050000   0.050000   0.050000  4.041828   0.050000  2.077375   \n",
       "8         0.050000   2.329056  30.333053  0.050000   2.124573  0.050000   \n",
       "9         0.050000   0.050000   7.268132  8.047336   0.053525  0.050000   \n",
       "10        0.050000   5.573547   0.050007  0.050000   0.050000  0.050000   \n",
       "11        4.238392   4.372381   0.050000  0.054451   0.070631  0.304461   \n",
       "12        2.050000   0.050000   0.050000  0.050000   0.050000  0.050000   \n",
       "13        0.050000   1.847788   0.050000  0.050000   0.050000  0.050000   \n",
       "14        1.380093  41.973363  14.058627  0.050000  15.570145  0.050000   \n",
       "15        0.050000   0.126094   0.050000  0.050000   0.057130  8.156256   \n",
       "16        0.050000   1.874007   0.050000  0.050000   0.050000  0.050000   \n",
       "17        6.730737   0.050000   0.050000  0.050000   0.050000  6.022625   \n",
       "18        0.050000   0.050000   0.050000  0.050006   0.050000  0.050000   \n",
       "19        0.050000   0.050000   0.050000  0.050000   0.050000  0.050000   \n",
       "\n",
       "term_str       zone      zones        zoo  \n",
       "topic_id                                   \n",
       "0          0.050000   0.050000   0.050000  \n",
       "1          0.050000   0.050000   0.050000  \n",
       "2          3.599531   0.651163   0.056195  \n",
       "3          0.050000  10.000257   0.050000  \n",
       "4          0.050000   0.050000   2.696106  \n",
       "5          0.050001   0.050000   0.050000  \n",
       "6          2.945503   0.050000   0.050000  \n",
       "7          5.321335   0.050000   0.050000  \n",
       "8          7.346649   0.050000   0.050000  \n",
       "9          2.545459   0.050000   0.050000  \n",
       "10         0.058019   1.594804   0.050000  \n",
       "11         0.050000   0.050000   0.057264  \n",
       "12         0.050000   0.050000  26.958151  \n",
       "13         7.983831   0.353367   0.050000  \n",
       "14         1.886224   0.050000   0.050000  \n",
       "15         0.050000   4.409643   0.050000  \n",
       "16         7.319787   0.050000   1.482285  \n",
       "17         0.050000   2.129805   0.050000  \n",
       "18         0.050000   0.050000   0.050000  \n",
       "19        15.493661   0.210962   0.050000  \n",
       "\n",
       "[20 rows x 4000 columns]"
      ]
     },
     "execution_count": 15,
     "metadata": {},
     "output_type": "execute_result"
    }
   ],
   "source": [
    "PHI=M.PHI\n",
    "PHI"
   ]
  },
  {
   "cell_type": "code",
   "execution_count": 17,
   "id": "e7efe3ec",
   "metadata": {},
   "outputs": [],
   "source": [
    "def get_pca(TFIDF, \n",
    "            k=10, \n",
    "            norm_docs=True,\n",
    "            norm_level=2,\n",
    "            center_by_mean=True, \n",
    "            center_by_variance=False):\n",
    "    \n",
    "    # if TFIDF.isna().sum().sum():\n",
    "    #     print(\"Filled NA\")\n",
    "    #     TFIDF = TFIDF.fillna(0)\n",
    "    \n",
    "    if norm_docs:\n",
    "        # TFIDF = TFIDF.apply(lambda x: x / norm(x), 1).fillna(0)\n",
    "        TFIDF = (TFIDF.T / norm(TFIDF, 2, axis=1)).T\n",
    "    \n",
    "    if center_by_mean:\n",
    "        TFIDF = TFIDF - TFIDF.mean()\n",
    "        \n",
    "    if center_by_variance:\n",
    "        TFIDF = TFIDF / TFIDF.std()        \n",
    "\n",
    "    COV = TFIDF.cov()\n",
    "\n",
    "    eig_vals, eig_vecs = eigh(COV)\n",
    "    \n",
    "    EIG_VEC = pd.DataFrame(eig_vecs, index=COV.index, columns=COV.index)\n",
    "    EIG_VAL = pd.DataFrame(eig_vals, index=COV.index, columns=['eig_val'])\n",
    "    EIG_VAL.index.name = 'term_str'\n",
    "        \n",
    "    EIG_IDX = EIG_VAL.eig_val.sort_values(ascending=False).head(k)\n",
    "    \n",
    "    COMPS = EIG_VEC[EIG_IDX.index].T\n",
    "    COMPS.index = [i for i in range(COMPS.shape[0])]\n",
    "    COMPS.index.name = 'pc_id'\n",
    "    \n",
    "\n",
    "    LOADINGS = COMPS.T\n",
    "\n",
    "    DCM = TFIDF.dot(LOADINGS)\n",
    "    \n",
    "    COMPINF = pd.DataFrame(index=COMPS.index)\n",
    "\n",
    "    for i in range(k):\n",
    "        for j in [0, 1]:\n",
    "            top_terms = ' '.join(LOADINGS.sort_values(i, ascending=bool(j)).head(5).index.to_list())\n",
    "            COMPINF.loc[i, j] = top_terms\n",
    "    COMPINF = COMPINF.rename(columns={0:'pos', 1:'neg'})\n",
    "    \n",
    "    COMPINF['eig_val'] = EIG_IDX.reset_index(drop=True).to_frame()\n",
    "    COMPINF['exp_var'] = COMPINF.eig_val / COMPINF.eig_val.sum()\n",
    "    \n",
    "    return LOADINGS, DCM, COMPINF"
   ]
  },
  {
   "cell_type": "code",
   "execution_count": 18,
   "id": "bb713a6b",
   "metadata": {},
   "outputs": [],
   "source": [
    "center_by_mean=False\n",
    "center_by_variance=False"
   ]
  },
  {
   "cell_type": "code",
   "execution_count": 19,
   "id": "6047f025",
   "metadata": {},
   "outputs": [],
   "source": [
    "LOADINGS, DCM, COMPINF = get_pca(PHI, \n",
    "                                 norm_docs=True, \n",
    "                                 norm_level=2, \n",
    "                                 center_by_mean=center_by_mean, \n",
    "                                 center_by_variance=center_by_variance)"
   ]
  },
  {
   "cell_type": "code",
   "execution_count": 25,
   "id": "b09e880f",
   "metadata": {},
   "outputs": [],
   "source": [
    "vis1=px.scatter(DCM, 0, 1, \n",
    "           color=TOPICS.index.to_series(), \n",
    "           hover_name=TOPICS.index.to_series(),\n",
    "           size=TOPICS.doc_weight_sum,\n",
    "           marginal_x='box', marginal_y='box', height=1000)"
   ]
  },
  {
   "cell_type": "code",
   "execution_count": 26,
   "id": "7bf50b56",
   "metadata": {
    "scrolled": true
   },
   "outputs": [
    {
     "data": {
      "application/vnd.plotly.v1+json": {
       "config": {
        "plotlyServerURL": "https://plot.ly"
       },
       "data": [
        {
         "hovertemplate": "<b>%{hovertext}</b><br><br>0=%{x}<br>1=%{y}<br>size=%{marker.size}<br>color=%{marker.color}<extra></extra>",
         "hovertext": [
          0,
          1,
          2,
          3,
          4,
          5,
          6,
          7,
          8,
          9,
          10,
          11,
          12,
          13,
          14,
          15,
          16,
          17,
          18,
          19
         ],
         "legendgroup": "",
         "marker": {
          "color": [
           0,
           1,
           2,
           3,
           4,
           5,
           6,
           7,
           8,
           9,
           10,
           11,
           12,
           13,
           14,
           15,
           16,
           17,
           18,
           19
          ],
          "coloraxis": "coloraxis",
          "size": [
           2021.9353170950487,
           4718.925642995365,
           2212.9218881189504,
           2098.9921931095782,
           2776.797630785407,
           2099.9521904949856,
           2548.417607840156,
           2250.3109058335785,
           2256.5646627341876,
           2275.609879945615,
           2091.4098836986636,
           2555.0681307702935,
           2383.218843029947,
           2645.0926337994674,
           2488.3622564970156,
           2653.268249812663,
           2108.4243224550473,
           2588.303362254889,
           2279.82294360089,
           2236.601455129945
          ],
          "sizemode": "area",
          "sizeref": 11.797314107488411,
          "symbol": "circle"
         },
         "mode": "markers",
         "name": "",
         "orientation": "v",
         "showlegend": false,
         "type": "scatter",
         "x": [
          -0.1806394050653304,
          0.5176488674096031,
          -0.16848424266007087,
          -0.12354779155470721,
          0.10341041982430046,
          -0.09162830811451711,
          -0.4741747618150654,
          0.14989994451644229,
          0.16748081769831213,
          0.4514795677134486,
          -0.2574806214253799,
          -0.2796102015711494,
          0.04430866172723957,
          -0.35703230735588415,
          -0.3037726183770072,
          -0.24507686209884322,
          0.28799753969286757,
          0.04817395818634871,
          -0.44078834525566335,
          -0.12642666623721563
         ],
         "xaxis": "x",
         "y": [
          0.2907047425993131,
          -0.05166747505097967,
          -0.11596762068060097,
          -0.35575215985098957,
          0.5189264122601612,
          -0.00229888656880981,
          -0.24542743684605375,
          -0.044770890007026366,
          0.02922559944583946,
          -0.41728979559772494,
          -0.13035691098381347,
          -0.09440223461700804,
          -0.22031006675573647,
          -0.3366305631320935,
          -0.405497417160659,
          -0.16509715748979817,
          -0.4179287998590454,
          -0.5064673260061044,
          -0.06788411143247534,
          0.13444297685660456
         ],
         "yaxis": "y"
        },
        {
         "alignmentgroup": "True",
         "hovertemplate": "<b>%{hovertext}</b><br><br>0=%{x}<extra></extra>",
         "hovertext": [
          0,
          1,
          2,
          3,
          4,
          5,
          6,
          7,
          8,
          9,
          10,
          11,
          12,
          13,
          14,
          15,
          16,
          17,
          18,
          19
         ],
         "legendgroup": "",
         "marker": {
          "color": "#0d0887",
          "symbol": "circle"
         },
         "name": "",
         "notched": true,
         "offsetgroup": "",
         "showlegend": false,
         "type": "box",
         "x": [
          -0.1806394050653304,
          0.5176488674096031,
          -0.16848424266007087,
          -0.12354779155470721,
          0.10341041982430046,
          -0.09162830811451711,
          -0.4741747618150654,
          0.14989994451644229,
          0.16748081769831213,
          0.4514795677134486,
          -0.2574806214253799,
          -0.2796102015711494,
          0.04430866172723957,
          -0.35703230735588415,
          -0.3037726183770072,
          -0.24507686209884322,
          0.28799753969286757,
          0.04817395818634871,
          -0.44078834525566335,
          -0.12642666623721563
         ],
         "xaxis": "x3",
         "yaxis": "y3"
        },
        {
         "alignmentgroup": "True",
         "hovertemplate": "<b>%{hovertext}</b><br><br>1=%{y}<extra></extra>",
         "hovertext": [
          0,
          1,
          2,
          3,
          4,
          5,
          6,
          7,
          8,
          9,
          10,
          11,
          12,
          13,
          14,
          15,
          16,
          17,
          18,
          19
         ],
         "legendgroup": "",
         "marker": {
          "color": "#0d0887",
          "symbol": "circle"
         },
         "name": "",
         "notched": true,
         "offsetgroup": "",
         "showlegend": false,
         "type": "box",
         "xaxis": "x2",
         "y": [
          0.2907047425993131,
          -0.05166747505097967,
          -0.11596762068060097,
          -0.35575215985098957,
          0.5189264122601612,
          -0.00229888656880981,
          -0.24542743684605375,
          -0.044770890007026366,
          0.02922559944583946,
          -0.41728979559772494,
          -0.13035691098381347,
          -0.09440223461700804,
          -0.22031006675573647,
          -0.3366305631320935,
          -0.405497417160659,
          -0.16509715748979817,
          -0.4179287998590454,
          -0.5064673260061044,
          -0.06788411143247534,
          0.13444297685660456
         ],
         "yaxis": "y2"
        }
       ],
       "layout": {
        "coloraxis": {
         "colorbar": {
          "title": {
           "text": "color"
          }
         },
         "colorscale": [
          [
           0,
           "#0d0887"
          ],
          [
           0.1111111111111111,
           "#46039f"
          ],
          [
           0.2222222222222222,
           "#7201a8"
          ],
          [
           0.3333333333333333,
           "#9c179e"
          ],
          [
           0.4444444444444444,
           "#bd3786"
          ],
          [
           0.5555555555555556,
           "#d8576b"
          ],
          [
           0.6666666666666666,
           "#ed7953"
          ],
          [
           0.7777777777777778,
           "#fb9f3a"
          ],
          [
           0.8888888888888888,
           "#fdca26"
          ],
          [
           1,
           "#f0f921"
          ]
         ]
        },
        "height": 1000,
        "legend": {
         "itemsizing": "constant",
         "tracegroupgap": 0
        },
        "margin": {
         "t": 60
        },
        "template": {
         "data": {
          "bar": [
           {
            "error_x": {
             "color": "#2a3f5f"
            },
            "error_y": {
             "color": "#2a3f5f"
            },
            "marker": {
             "line": {
              "color": "#E5ECF6",
              "width": 0.5
             },
             "pattern": {
              "fillmode": "overlay",
              "size": 10,
              "solidity": 0.2
             }
            },
            "type": "bar"
           }
          ],
          "barpolar": [
           {
            "marker": {
             "line": {
              "color": "#E5ECF6",
              "width": 0.5
             },
             "pattern": {
              "fillmode": "overlay",
              "size": 10,
              "solidity": 0.2
             }
            },
            "type": "barpolar"
           }
          ],
          "carpet": [
           {
            "aaxis": {
             "endlinecolor": "#2a3f5f",
             "gridcolor": "white",
             "linecolor": "white",
             "minorgridcolor": "white",
             "startlinecolor": "#2a3f5f"
            },
            "baxis": {
             "endlinecolor": "#2a3f5f",
             "gridcolor": "white",
             "linecolor": "white",
             "minorgridcolor": "white",
             "startlinecolor": "#2a3f5f"
            },
            "type": "carpet"
           }
          ],
          "choropleth": [
           {
            "colorbar": {
             "outlinewidth": 0,
             "ticks": ""
            },
            "type": "choropleth"
           }
          ],
          "contour": [
           {
            "colorbar": {
             "outlinewidth": 0,
             "ticks": ""
            },
            "colorscale": [
             [
              0,
              "#0d0887"
             ],
             [
              0.1111111111111111,
              "#46039f"
             ],
             [
              0.2222222222222222,
              "#7201a8"
             ],
             [
              0.3333333333333333,
              "#9c179e"
             ],
             [
              0.4444444444444444,
              "#bd3786"
             ],
             [
              0.5555555555555556,
              "#d8576b"
             ],
             [
              0.6666666666666666,
              "#ed7953"
             ],
             [
              0.7777777777777778,
              "#fb9f3a"
             ],
             [
              0.8888888888888888,
              "#fdca26"
             ],
             [
              1,
              "#f0f921"
             ]
            ],
            "type": "contour"
           }
          ],
          "contourcarpet": [
           {
            "colorbar": {
             "outlinewidth": 0,
             "ticks": ""
            },
            "type": "contourcarpet"
           }
          ],
          "heatmap": [
           {
            "colorbar": {
             "outlinewidth": 0,
             "ticks": ""
            },
            "colorscale": [
             [
              0,
              "#0d0887"
             ],
             [
              0.1111111111111111,
              "#46039f"
             ],
             [
              0.2222222222222222,
              "#7201a8"
             ],
             [
              0.3333333333333333,
              "#9c179e"
             ],
             [
              0.4444444444444444,
              "#bd3786"
             ],
             [
              0.5555555555555556,
              "#d8576b"
             ],
             [
              0.6666666666666666,
              "#ed7953"
             ],
             [
              0.7777777777777778,
              "#fb9f3a"
             ],
             [
              0.8888888888888888,
              "#fdca26"
             ],
             [
              1,
              "#f0f921"
             ]
            ],
            "type": "heatmap"
           }
          ],
          "heatmapgl": [
           {
            "colorbar": {
             "outlinewidth": 0,
             "ticks": ""
            },
            "colorscale": [
             [
              0,
              "#0d0887"
             ],
             [
              0.1111111111111111,
              "#46039f"
             ],
             [
              0.2222222222222222,
              "#7201a8"
             ],
             [
              0.3333333333333333,
              "#9c179e"
             ],
             [
              0.4444444444444444,
              "#bd3786"
             ],
             [
              0.5555555555555556,
              "#d8576b"
             ],
             [
              0.6666666666666666,
              "#ed7953"
             ],
             [
              0.7777777777777778,
              "#fb9f3a"
             ],
             [
              0.8888888888888888,
              "#fdca26"
             ],
             [
              1,
              "#f0f921"
             ]
            ],
            "type": "heatmapgl"
           }
          ],
          "histogram": [
           {
            "marker": {
             "pattern": {
              "fillmode": "overlay",
              "size": 10,
              "solidity": 0.2
             }
            },
            "type": "histogram"
           }
          ],
          "histogram2d": [
           {
            "colorbar": {
             "outlinewidth": 0,
             "ticks": ""
            },
            "colorscale": [
             [
              0,
              "#0d0887"
             ],
             [
              0.1111111111111111,
              "#46039f"
             ],
             [
              0.2222222222222222,
              "#7201a8"
             ],
             [
              0.3333333333333333,
              "#9c179e"
             ],
             [
              0.4444444444444444,
              "#bd3786"
             ],
             [
              0.5555555555555556,
              "#d8576b"
             ],
             [
              0.6666666666666666,
              "#ed7953"
             ],
             [
              0.7777777777777778,
              "#fb9f3a"
             ],
             [
              0.8888888888888888,
              "#fdca26"
             ],
             [
              1,
              "#f0f921"
             ]
            ],
            "type": "histogram2d"
           }
          ],
          "histogram2dcontour": [
           {
            "colorbar": {
             "outlinewidth": 0,
             "ticks": ""
            },
            "colorscale": [
             [
              0,
              "#0d0887"
             ],
             [
              0.1111111111111111,
              "#46039f"
             ],
             [
              0.2222222222222222,
              "#7201a8"
             ],
             [
              0.3333333333333333,
              "#9c179e"
             ],
             [
              0.4444444444444444,
              "#bd3786"
             ],
             [
              0.5555555555555556,
              "#d8576b"
             ],
             [
              0.6666666666666666,
              "#ed7953"
             ],
             [
              0.7777777777777778,
              "#fb9f3a"
             ],
             [
              0.8888888888888888,
              "#fdca26"
             ],
             [
              1,
              "#f0f921"
             ]
            ],
            "type": "histogram2dcontour"
           }
          ],
          "mesh3d": [
           {
            "colorbar": {
             "outlinewidth": 0,
             "ticks": ""
            },
            "type": "mesh3d"
           }
          ],
          "parcoords": [
           {
            "line": {
             "colorbar": {
              "outlinewidth": 0,
              "ticks": ""
             }
            },
            "type": "parcoords"
           }
          ],
          "pie": [
           {
            "automargin": true,
            "type": "pie"
           }
          ],
          "scatter": [
           {
            "fillpattern": {
             "fillmode": "overlay",
             "size": 10,
             "solidity": 0.2
            },
            "type": "scatter"
           }
          ],
          "scatter3d": [
           {
            "line": {
             "colorbar": {
              "outlinewidth": 0,
              "ticks": ""
             }
            },
            "marker": {
             "colorbar": {
              "outlinewidth": 0,
              "ticks": ""
             }
            },
            "type": "scatter3d"
           }
          ],
          "scattercarpet": [
           {
            "marker": {
             "colorbar": {
              "outlinewidth": 0,
              "ticks": ""
             }
            },
            "type": "scattercarpet"
           }
          ],
          "scattergeo": [
           {
            "marker": {
             "colorbar": {
              "outlinewidth": 0,
              "ticks": ""
             }
            },
            "type": "scattergeo"
           }
          ],
          "scattergl": [
           {
            "marker": {
             "colorbar": {
              "outlinewidth": 0,
              "ticks": ""
             }
            },
            "type": "scattergl"
           }
          ],
          "scattermapbox": [
           {
            "marker": {
             "colorbar": {
              "outlinewidth": 0,
              "ticks": ""
             }
            },
            "type": "scattermapbox"
           }
          ],
          "scatterpolar": [
           {
            "marker": {
             "colorbar": {
              "outlinewidth": 0,
              "ticks": ""
             }
            },
            "type": "scatterpolar"
           }
          ],
          "scatterpolargl": [
           {
            "marker": {
             "colorbar": {
              "outlinewidth": 0,
              "ticks": ""
             }
            },
            "type": "scatterpolargl"
           }
          ],
          "scatterternary": [
           {
            "marker": {
             "colorbar": {
              "outlinewidth": 0,
              "ticks": ""
             }
            },
            "type": "scatterternary"
           }
          ],
          "surface": [
           {
            "colorbar": {
             "outlinewidth": 0,
             "ticks": ""
            },
            "colorscale": [
             [
              0,
              "#0d0887"
             ],
             [
              0.1111111111111111,
              "#46039f"
             ],
             [
              0.2222222222222222,
              "#7201a8"
             ],
             [
              0.3333333333333333,
              "#9c179e"
             ],
             [
              0.4444444444444444,
              "#bd3786"
             ],
             [
              0.5555555555555556,
              "#d8576b"
             ],
             [
              0.6666666666666666,
              "#ed7953"
             ],
             [
              0.7777777777777778,
              "#fb9f3a"
             ],
             [
              0.8888888888888888,
              "#fdca26"
             ],
             [
              1,
              "#f0f921"
             ]
            ],
            "type": "surface"
           }
          ],
          "table": [
           {
            "cells": {
             "fill": {
              "color": "#EBF0F8"
             },
             "line": {
              "color": "white"
             }
            },
            "header": {
             "fill": {
              "color": "#C8D4E3"
             },
             "line": {
              "color": "white"
             }
            },
            "type": "table"
           }
          ]
         },
         "layout": {
          "annotationdefaults": {
           "arrowcolor": "#2a3f5f",
           "arrowhead": 0,
           "arrowwidth": 1
          },
          "autotypenumbers": "strict",
          "coloraxis": {
           "colorbar": {
            "outlinewidth": 0,
            "ticks": ""
           }
          },
          "colorscale": {
           "diverging": [
            [
             0,
             "#8e0152"
            ],
            [
             0.1,
             "#c51b7d"
            ],
            [
             0.2,
             "#de77ae"
            ],
            [
             0.3,
             "#f1b6da"
            ],
            [
             0.4,
             "#fde0ef"
            ],
            [
             0.5,
             "#f7f7f7"
            ],
            [
             0.6,
             "#e6f5d0"
            ],
            [
             0.7,
             "#b8e186"
            ],
            [
             0.8,
             "#7fbc41"
            ],
            [
             0.9,
             "#4d9221"
            ],
            [
             1,
             "#276419"
            ]
           ],
           "sequential": [
            [
             0,
             "#0d0887"
            ],
            [
             0.1111111111111111,
             "#46039f"
            ],
            [
             0.2222222222222222,
             "#7201a8"
            ],
            [
             0.3333333333333333,
             "#9c179e"
            ],
            [
             0.4444444444444444,
             "#bd3786"
            ],
            [
             0.5555555555555556,
             "#d8576b"
            ],
            [
             0.6666666666666666,
             "#ed7953"
            ],
            [
             0.7777777777777778,
             "#fb9f3a"
            ],
            [
             0.8888888888888888,
             "#fdca26"
            ],
            [
             1,
             "#f0f921"
            ]
           ],
           "sequentialminus": [
            [
             0,
             "#0d0887"
            ],
            [
             0.1111111111111111,
             "#46039f"
            ],
            [
             0.2222222222222222,
             "#7201a8"
            ],
            [
             0.3333333333333333,
             "#9c179e"
            ],
            [
             0.4444444444444444,
             "#bd3786"
            ],
            [
             0.5555555555555556,
             "#d8576b"
            ],
            [
             0.6666666666666666,
             "#ed7953"
            ],
            [
             0.7777777777777778,
             "#fb9f3a"
            ],
            [
             0.8888888888888888,
             "#fdca26"
            ],
            [
             1,
             "#f0f921"
            ]
           ]
          },
          "colorway": [
           "#636efa",
           "#EF553B",
           "#00cc96",
           "#ab63fa",
           "#FFA15A",
           "#19d3f3",
           "#FF6692",
           "#B6E880",
           "#FF97FF",
           "#FECB52"
          ],
          "font": {
           "color": "#2a3f5f"
          },
          "geo": {
           "bgcolor": "white",
           "lakecolor": "white",
           "landcolor": "#E5ECF6",
           "showlakes": true,
           "showland": true,
           "subunitcolor": "white"
          },
          "hoverlabel": {
           "align": "left"
          },
          "hovermode": "closest",
          "mapbox": {
           "style": "light"
          },
          "paper_bgcolor": "white",
          "plot_bgcolor": "#E5ECF6",
          "polar": {
           "angularaxis": {
            "gridcolor": "white",
            "linecolor": "white",
            "ticks": ""
           },
           "bgcolor": "#E5ECF6",
           "radialaxis": {
            "gridcolor": "white",
            "linecolor": "white",
            "ticks": ""
           }
          },
          "scene": {
           "xaxis": {
            "backgroundcolor": "#E5ECF6",
            "gridcolor": "white",
            "gridwidth": 2,
            "linecolor": "white",
            "showbackground": true,
            "ticks": "",
            "zerolinecolor": "white"
           },
           "yaxis": {
            "backgroundcolor": "#E5ECF6",
            "gridcolor": "white",
            "gridwidth": 2,
            "linecolor": "white",
            "showbackground": true,
            "ticks": "",
            "zerolinecolor": "white"
           },
           "zaxis": {
            "backgroundcolor": "#E5ECF6",
            "gridcolor": "white",
            "gridwidth": 2,
            "linecolor": "white",
            "showbackground": true,
            "ticks": "",
            "zerolinecolor": "white"
           }
          },
          "shapedefaults": {
           "line": {
            "color": "#2a3f5f"
           }
          },
          "ternary": {
           "aaxis": {
            "gridcolor": "white",
            "linecolor": "white",
            "ticks": ""
           },
           "baxis": {
            "gridcolor": "white",
            "linecolor": "white",
            "ticks": ""
           },
           "bgcolor": "#E5ECF6",
           "caxis": {
            "gridcolor": "white",
            "linecolor": "white",
            "ticks": ""
           }
          },
          "title": {
           "x": 0.05
          },
          "xaxis": {
           "automargin": true,
           "gridcolor": "white",
           "linecolor": "white",
           "ticks": "",
           "title": {
            "standoff": 15
           },
           "zerolinecolor": "white",
           "zerolinewidth": 2
          },
          "yaxis": {
           "automargin": true,
           "gridcolor": "white",
           "linecolor": "white",
           "ticks": "",
           "title": {
            "standoff": 15
           },
           "zerolinecolor": "white",
           "zerolinewidth": 2
          }
         }
        },
        "xaxis": {
         "anchor": "y",
         "domain": [
          0,
          0.7363
         ],
         "title": {
          "text": "0"
         }
        },
        "xaxis2": {
         "anchor": "y2",
         "domain": [
          0.7413,
          1
         ],
         "matches": "x2",
         "showgrid": false,
         "showline": false,
         "showticklabels": false,
         "ticks": ""
        },
        "xaxis3": {
         "anchor": "y3",
         "domain": [
          0,
          0.7363
         ],
         "matches": "x",
         "showgrid": true,
         "showticklabels": false
        },
        "xaxis4": {
         "anchor": "y4",
         "domain": [
          0.7413,
          1
         ],
         "matches": "x2",
         "showgrid": false,
         "showline": false,
         "showticklabels": false,
         "ticks": ""
        },
        "yaxis": {
         "anchor": "x",
         "domain": [
          0,
          0.7326
         ],
         "title": {
          "text": "1"
         }
        },
        "yaxis2": {
         "anchor": "x2",
         "domain": [
          0,
          0.7326
         ],
         "matches": "y",
         "showgrid": true,
         "showticklabels": false
        },
        "yaxis3": {
         "anchor": "x3",
         "domain": [
          0.7426,
          1
         ],
         "matches": "y3",
         "showgrid": false,
         "showline": false,
         "showticklabels": false,
         "ticks": ""
        },
        "yaxis4": {
         "anchor": "x4",
         "domain": [
          0.7426,
          1
         ],
         "matches": "y3",
         "showgrid": true,
         "showline": false,
         "showticklabels": false,
         "ticks": ""
        }
       }
      },
      "text/html": [
       "<div>                            <div id=\"cc8292d2-4f45-427f-a948-e9b8798cd8b2\" class=\"plotly-graph-div\" style=\"height:1000px; width:100%;\"></div>            <script type=\"text/javascript\">                require([\"plotly\"], function(Plotly) {                    window.PLOTLYENV=window.PLOTLYENV || {};                                    if (document.getElementById(\"cc8292d2-4f45-427f-a948-e9b8798cd8b2\")) {                    Plotly.newPlot(                        \"cc8292d2-4f45-427f-a948-e9b8798cd8b2\",                        [{\"hovertemplate\":\"<b>%{hovertext}</b><br><br>0=%{x}<br>1=%{y}<br>size=%{marker.size}<br>color=%{marker.color}<extra></extra>\",\"hovertext\":[0.0,1.0,2.0,3.0,4.0,5.0,6.0,7.0,8.0,9.0,10.0,11.0,12.0,13.0,14.0,15.0,16.0,17.0,18.0,19.0],\"legendgroup\":\"\",\"marker\":{\"color\":[0,1,2,3,4,5,6,7,8,9,10,11,12,13,14,15,16,17,18,19],\"coloraxis\":\"coloraxis\",\"size\":[2021.9353170950487,4718.925642995365,2212.9218881189504,2098.9921931095782,2776.797630785407,2099.9521904949856,2548.417607840156,2250.3109058335785,2256.5646627341876,2275.609879945615,2091.4098836986636,2555.0681307702935,2383.218843029947,2645.0926337994674,2488.3622564970156,2653.268249812663,2108.4243224550473,2588.303362254889,2279.82294360089,2236.601455129945],\"sizemode\":\"area\",\"sizeref\":11.797314107488411,\"symbol\":\"circle\"},\"mode\":\"markers\",\"name\":\"\",\"orientation\":\"v\",\"showlegend\":false,\"x\":[-0.1806394050653304,0.5176488674096031,-0.16848424266007087,-0.12354779155470721,0.10341041982430046,-0.09162830811451711,-0.4741747618150654,0.14989994451644229,0.16748081769831213,0.4514795677134486,-0.2574806214253799,-0.2796102015711494,0.04430866172723957,-0.35703230735588415,-0.3037726183770072,-0.24507686209884322,0.28799753969286757,0.04817395818634871,-0.44078834525566335,-0.12642666623721563],\"xaxis\":\"x\",\"y\":[0.2907047425993131,-0.05166747505097967,-0.11596762068060097,-0.35575215985098957,0.5189264122601612,-0.00229888656880981,-0.24542743684605375,-0.044770890007026366,0.02922559944583946,-0.41728979559772494,-0.13035691098381347,-0.09440223461700804,-0.22031006675573647,-0.3366305631320935,-0.405497417160659,-0.16509715748979817,-0.4179287998590454,-0.5064673260061044,-0.06788411143247534,0.13444297685660456],\"yaxis\":\"y\",\"type\":\"scatter\"},{\"alignmentgroup\":\"True\",\"hovertemplate\":\"<b>%{hovertext}</b><br><br>0=%{x}<extra></extra>\",\"hovertext\":[0.0,1.0,2.0,3.0,4.0,5.0,6.0,7.0,8.0,9.0,10.0,11.0,12.0,13.0,14.0,15.0,16.0,17.0,18.0,19.0],\"legendgroup\":\"\",\"marker\":{\"color\":\"#0d0887\",\"symbol\":\"circle\"},\"name\":\"\",\"notched\":true,\"offsetgroup\":\"\",\"showlegend\":false,\"x\":[-0.1806394050653304,0.5176488674096031,-0.16848424266007087,-0.12354779155470721,0.10341041982430046,-0.09162830811451711,-0.4741747618150654,0.14989994451644229,0.16748081769831213,0.4514795677134486,-0.2574806214253799,-0.2796102015711494,0.04430866172723957,-0.35703230735588415,-0.3037726183770072,-0.24507686209884322,0.28799753969286757,0.04817395818634871,-0.44078834525566335,-0.12642666623721563],\"xaxis\":\"x3\",\"yaxis\":\"y3\",\"type\":\"box\"},{\"alignmentgroup\":\"True\",\"hovertemplate\":\"<b>%{hovertext}</b><br><br>1=%{y}<extra></extra>\",\"hovertext\":[0.0,1.0,2.0,3.0,4.0,5.0,6.0,7.0,8.0,9.0,10.0,11.0,12.0,13.0,14.0,15.0,16.0,17.0,18.0,19.0],\"legendgroup\":\"\",\"marker\":{\"color\":\"#0d0887\",\"symbol\":\"circle\"},\"name\":\"\",\"notched\":true,\"offsetgroup\":\"\",\"showlegend\":false,\"xaxis\":\"x2\",\"y\":[0.2907047425993131,-0.05166747505097967,-0.11596762068060097,-0.35575215985098957,0.5189264122601612,-0.00229888656880981,-0.24542743684605375,-0.044770890007026366,0.02922559944583946,-0.41728979559772494,-0.13035691098381347,-0.09440223461700804,-0.22031006675573647,-0.3366305631320935,-0.405497417160659,-0.16509715748979817,-0.4179287998590454,-0.5064673260061044,-0.06788411143247534,0.13444297685660456],\"yaxis\":\"y2\",\"type\":\"box\"}],                        {\"template\":{\"data\":{\"histogram2dcontour\":[{\"type\":\"histogram2dcontour\",\"colorbar\":{\"outlinewidth\":0,\"ticks\":\"\"},\"colorscale\":[[0.0,\"#0d0887\"],[0.1111111111111111,\"#46039f\"],[0.2222222222222222,\"#7201a8\"],[0.3333333333333333,\"#9c179e\"],[0.4444444444444444,\"#bd3786\"],[0.5555555555555556,\"#d8576b\"],[0.6666666666666666,\"#ed7953\"],[0.7777777777777778,\"#fb9f3a\"],[0.8888888888888888,\"#fdca26\"],[1.0,\"#f0f921\"]]}],\"choropleth\":[{\"type\":\"choropleth\",\"colorbar\":{\"outlinewidth\":0,\"ticks\":\"\"}}],\"histogram2d\":[{\"type\":\"histogram2d\",\"colorbar\":{\"outlinewidth\":0,\"ticks\":\"\"},\"colorscale\":[[0.0,\"#0d0887\"],[0.1111111111111111,\"#46039f\"],[0.2222222222222222,\"#7201a8\"],[0.3333333333333333,\"#9c179e\"],[0.4444444444444444,\"#bd3786\"],[0.5555555555555556,\"#d8576b\"],[0.6666666666666666,\"#ed7953\"],[0.7777777777777778,\"#fb9f3a\"],[0.8888888888888888,\"#fdca26\"],[1.0,\"#f0f921\"]]}],\"heatmap\":[{\"type\":\"heatmap\",\"colorbar\":{\"outlinewidth\":0,\"ticks\":\"\"},\"colorscale\":[[0.0,\"#0d0887\"],[0.1111111111111111,\"#46039f\"],[0.2222222222222222,\"#7201a8\"],[0.3333333333333333,\"#9c179e\"],[0.4444444444444444,\"#bd3786\"],[0.5555555555555556,\"#d8576b\"],[0.6666666666666666,\"#ed7953\"],[0.7777777777777778,\"#fb9f3a\"],[0.8888888888888888,\"#fdca26\"],[1.0,\"#f0f921\"]]}],\"heatmapgl\":[{\"type\":\"heatmapgl\",\"colorbar\":{\"outlinewidth\":0,\"ticks\":\"\"},\"colorscale\":[[0.0,\"#0d0887\"],[0.1111111111111111,\"#46039f\"],[0.2222222222222222,\"#7201a8\"],[0.3333333333333333,\"#9c179e\"],[0.4444444444444444,\"#bd3786\"],[0.5555555555555556,\"#d8576b\"],[0.6666666666666666,\"#ed7953\"],[0.7777777777777778,\"#fb9f3a\"],[0.8888888888888888,\"#fdca26\"],[1.0,\"#f0f921\"]]}],\"contourcarpet\":[{\"type\":\"contourcarpet\",\"colorbar\":{\"outlinewidth\":0,\"ticks\":\"\"}}],\"contour\":[{\"type\":\"contour\",\"colorbar\":{\"outlinewidth\":0,\"ticks\":\"\"},\"colorscale\":[[0.0,\"#0d0887\"],[0.1111111111111111,\"#46039f\"],[0.2222222222222222,\"#7201a8\"],[0.3333333333333333,\"#9c179e\"],[0.4444444444444444,\"#bd3786\"],[0.5555555555555556,\"#d8576b\"],[0.6666666666666666,\"#ed7953\"],[0.7777777777777778,\"#fb9f3a\"],[0.8888888888888888,\"#fdca26\"],[1.0,\"#f0f921\"]]}],\"surface\":[{\"type\":\"surface\",\"colorbar\":{\"outlinewidth\":0,\"ticks\":\"\"},\"colorscale\":[[0.0,\"#0d0887\"],[0.1111111111111111,\"#46039f\"],[0.2222222222222222,\"#7201a8\"],[0.3333333333333333,\"#9c179e\"],[0.4444444444444444,\"#bd3786\"],[0.5555555555555556,\"#d8576b\"],[0.6666666666666666,\"#ed7953\"],[0.7777777777777778,\"#fb9f3a\"],[0.8888888888888888,\"#fdca26\"],[1.0,\"#f0f921\"]]}],\"mesh3d\":[{\"type\":\"mesh3d\",\"colorbar\":{\"outlinewidth\":0,\"ticks\":\"\"}}],\"scatter\":[{\"fillpattern\":{\"fillmode\":\"overlay\",\"size\":10,\"solidity\":0.2},\"type\":\"scatter\"}],\"parcoords\":[{\"type\":\"parcoords\",\"line\":{\"colorbar\":{\"outlinewidth\":0,\"ticks\":\"\"}}}],\"scatterpolargl\":[{\"type\":\"scatterpolargl\",\"marker\":{\"colorbar\":{\"outlinewidth\":0,\"ticks\":\"\"}}}],\"bar\":[{\"error_x\":{\"color\":\"#2a3f5f\"},\"error_y\":{\"color\":\"#2a3f5f\"},\"marker\":{\"line\":{\"color\":\"#E5ECF6\",\"width\":0.5},\"pattern\":{\"fillmode\":\"overlay\",\"size\":10,\"solidity\":0.2}},\"type\":\"bar\"}],\"scattergeo\":[{\"type\":\"scattergeo\",\"marker\":{\"colorbar\":{\"outlinewidth\":0,\"ticks\":\"\"}}}],\"scatterpolar\":[{\"type\":\"scatterpolar\",\"marker\":{\"colorbar\":{\"outlinewidth\":0,\"ticks\":\"\"}}}],\"histogram\":[{\"marker\":{\"pattern\":{\"fillmode\":\"overlay\",\"size\":10,\"solidity\":0.2}},\"type\":\"histogram\"}],\"scattergl\":[{\"type\":\"scattergl\",\"marker\":{\"colorbar\":{\"outlinewidth\":0,\"ticks\":\"\"}}}],\"scatter3d\":[{\"type\":\"scatter3d\",\"line\":{\"colorbar\":{\"outlinewidth\":0,\"ticks\":\"\"}},\"marker\":{\"colorbar\":{\"outlinewidth\":0,\"ticks\":\"\"}}}],\"scattermapbox\":[{\"type\":\"scattermapbox\",\"marker\":{\"colorbar\":{\"outlinewidth\":0,\"ticks\":\"\"}}}],\"scatterternary\":[{\"type\":\"scatterternary\",\"marker\":{\"colorbar\":{\"outlinewidth\":0,\"ticks\":\"\"}}}],\"scattercarpet\":[{\"type\":\"scattercarpet\",\"marker\":{\"colorbar\":{\"outlinewidth\":0,\"ticks\":\"\"}}}],\"carpet\":[{\"aaxis\":{\"endlinecolor\":\"#2a3f5f\",\"gridcolor\":\"white\",\"linecolor\":\"white\",\"minorgridcolor\":\"white\",\"startlinecolor\":\"#2a3f5f\"},\"baxis\":{\"endlinecolor\":\"#2a3f5f\",\"gridcolor\":\"white\",\"linecolor\":\"white\",\"minorgridcolor\":\"white\",\"startlinecolor\":\"#2a3f5f\"},\"type\":\"carpet\"}],\"table\":[{\"cells\":{\"fill\":{\"color\":\"#EBF0F8\"},\"line\":{\"color\":\"white\"}},\"header\":{\"fill\":{\"color\":\"#C8D4E3\"},\"line\":{\"color\":\"white\"}},\"type\":\"table\"}],\"barpolar\":[{\"marker\":{\"line\":{\"color\":\"#E5ECF6\",\"width\":0.5},\"pattern\":{\"fillmode\":\"overlay\",\"size\":10,\"solidity\":0.2}},\"type\":\"barpolar\"}],\"pie\":[{\"automargin\":true,\"type\":\"pie\"}]},\"layout\":{\"autotypenumbers\":\"strict\",\"colorway\":[\"#636efa\",\"#EF553B\",\"#00cc96\",\"#ab63fa\",\"#FFA15A\",\"#19d3f3\",\"#FF6692\",\"#B6E880\",\"#FF97FF\",\"#FECB52\"],\"font\":{\"color\":\"#2a3f5f\"},\"hovermode\":\"closest\",\"hoverlabel\":{\"align\":\"left\"},\"paper_bgcolor\":\"white\",\"plot_bgcolor\":\"#E5ECF6\",\"polar\":{\"bgcolor\":\"#E5ECF6\",\"angularaxis\":{\"gridcolor\":\"white\",\"linecolor\":\"white\",\"ticks\":\"\"},\"radialaxis\":{\"gridcolor\":\"white\",\"linecolor\":\"white\",\"ticks\":\"\"}},\"ternary\":{\"bgcolor\":\"#E5ECF6\",\"aaxis\":{\"gridcolor\":\"white\",\"linecolor\":\"white\",\"ticks\":\"\"},\"baxis\":{\"gridcolor\":\"white\",\"linecolor\":\"white\",\"ticks\":\"\"},\"caxis\":{\"gridcolor\":\"white\",\"linecolor\":\"white\",\"ticks\":\"\"}},\"coloraxis\":{\"colorbar\":{\"outlinewidth\":0,\"ticks\":\"\"}},\"colorscale\":{\"sequential\":[[0.0,\"#0d0887\"],[0.1111111111111111,\"#46039f\"],[0.2222222222222222,\"#7201a8\"],[0.3333333333333333,\"#9c179e\"],[0.4444444444444444,\"#bd3786\"],[0.5555555555555556,\"#d8576b\"],[0.6666666666666666,\"#ed7953\"],[0.7777777777777778,\"#fb9f3a\"],[0.8888888888888888,\"#fdca26\"],[1.0,\"#f0f921\"]],\"sequentialminus\":[[0.0,\"#0d0887\"],[0.1111111111111111,\"#46039f\"],[0.2222222222222222,\"#7201a8\"],[0.3333333333333333,\"#9c179e\"],[0.4444444444444444,\"#bd3786\"],[0.5555555555555556,\"#d8576b\"],[0.6666666666666666,\"#ed7953\"],[0.7777777777777778,\"#fb9f3a\"],[0.8888888888888888,\"#fdca26\"],[1.0,\"#f0f921\"]],\"diverging\":[[0,\"#8e0152\"],[0.1,\"#c51b7d\"],[0.2,\"#de77ae\"],[0.3,\"#f1b6da\"],[0.4,\"#fde0ef\"],[0.5,\"#f7f7f7\"],[0.6,\"#e6f5d0\"],[0.7,\"#b8e186\"],[0.8,\"#7fbc41\"],[0.9,\"#4d9221\"],[1,\"#276419\"]]},\"xaxis\":{\"gridcolor\":\"white\",\"linecolor\":\"white\",\"ticks\":\"\",\"title\":{\"standoff\":15},\"zerolinecolor\":\"white\",\"automargin\":true,\"zerolinewidth\":2},\"yaxis\":{\"gridcolor\":\"white\",\"linecolor\":\"white\",\"ticks\":\"\",\"title\":{\"standoff\":15},\"zerolinecolor\":\"white\",\"automargin\":true,\"zerolinewidth\":2},\"scene\":{\"xaxis\":{\"backgroundcolor\":\"#E5ECF6\",\"gridcolor\":\"white\",\"linecolor\":\"white\",\"showbackground\":true,\"ticks\":\"\",\"zerolinecolor\":\"white\",\"gridwidth\":2},\"yaxis\":{\"backgroundcolor\":\"#E5ECF6\",\"gridcolor\":\"white\",\"linecolor\":\"white\",\"showbackground\":true,\"ticks\":\"\",\"zerolinecolor\":\"white\",\"gridwidth\":2},\"zaxis\":{\"backgroundcolor\":\"#E5ECF6\",\"gridcolor\":\"white\",\"linecolor\":\"white\",\"showbackground\":true,\"ticks\":\"\",\"zerolinecolor\":\"white\",\"gridwidth\":2}},\"shapedefaults\":{\"line\":{\"color\":\"#2a3f5f\"}},\"annotationdefaults\":{\"arrowcolor\":\"#2a3f5f\",\"arrowhead\":0,\"arrowwidth\":1},\"geo\":{\"bgcolor\":\"white\",\"landcolor\":\"#E5ECF6\",\"subunitcolor\":\"white\",\"showland\":true,\"showlakes\":true,\"lakecolor\":\"white\"},\"title\":{\"x\":0.05},\"mapbox\":{\"style\":\"light\"}}},\"xaxis\":{\"anchor\":\"y\",\"domain\":[0.0,0.7363],\"title\":{\"text\":\"0\"}},\"yaxis\":{\"anchor\":\"x\",\"domain\":[0.0,0.7326],\"title\":{\"text\":\"1\"}},\"xaxis2\":{\"anchor\":\"y2\",\"domain\":[0.7413,1.0],\"matches\":\"x2\",\"showticklabels\":false,\"showline\":false,\"ticks\":\"\",\"showgrid\":false},\"yaxis2\":{\"anchor\":\"x2\",\"domain\":[0.0,0.7326],\"matches\":\"y\",\"showticklabels\":false,\"showgrid\":true},\"xaxis3\":{\"anchor\":\"y3\",\"domain\":[0.0,0.7363],\"matches\":\"x\",\"showticklabels\":false,\"showgrid\":true},\"yaxis3\":{\"anchor\":\"x3\",\"domain\":[0.7426,1.0],\"matches\":\"y3\",\"showticklabels\":false,\"showline\":false,\"ticks\":\"\",\"showgrid\":false},\"xaxis4\":{\"anchor\":\"y4\",\"domain\":[0.7413,1.0],\"matches\":\"x2\",\"showticklabels\":false,\"showgrid\":false,\"showline\":false,\"ticks\":\"\"},\"yaxis4\":{\"anchor\":\"x4\",\"domain\":[0.7426,1.0],\"matches\":\"y3\",\"showticklabels\":false,\"showline\":false,\"ticks\":\"\",\"showgrid\":true},\"coloraxis\":{\"colorbar\":{\"title\":{\"text\":\"color\"}},\"colorscale\":[[0.0,\"#0d0887\"],[0.1111111111111111,\"#46039f\"],[0.2222222222222222,\"#7201a8\"],[0.3333333333333333,\"#9c179e\"],[0.4444444444444444,\"#bd3786\"],[0.5555555555555556,\"#d8576b\"],[0.6666666666666666,\"#ed7953\"],[0.7777777777777778,\"#fb9f3a\"],[0.8888888888888888,\"#fdca26\"],[1.0,\"#f0f921\"]]},\"legend\":{\"tracegroupgap\":0,\"itemsizing\":\"constant\"},\"margin\":{\"t\":60},\"height\":1000},                        {\"responsive\": true}                    ).then(function(){\n",
       "                            \n",
       "var gd = document.getElementById('cc8292d2-4f45-427f-a948-e9b8798cd8b2');\n",
       "var x = new MutationObserver(function (mutations, observer) {{\n",
       "        var display = window.getComputedStyle(gd).display;\n",
       "        if (!display || display === 'none') {{\n",
       "            console.log([gd, 'removed!']);\n",
       "            Plotly.purge(gd);\n",
       "            observer.disconnect();\n",
       "        }}\n",
       "}});\n",
       "\n",
       "// Listen for the removal of the full notebook cells\n",
       "var notebookContainer = gd.closest('#notebook-container');\n",
       "if (notebookContainer) {{\n",
       "    x.observe(notebookContainer, {childList: true});\n",
       "}}\n",
       "\n",
       "// Listen for the clearing of the current output cell\n",
       "var outputEl = gd.closest('.output');\n",
       "if (outputEl) {{\n",
       "    x.observe(outputEl, {childList: true});\n",
       "}}\n",
       "\n",
       "                        })                };                });            </script>        </div>"
      ]
     },
     "metadata": {},
     "output_type": "display_data"
    }
   ],
   "source": [
    "vis1"
   ]
  },
  {
   "cell_type": "code",
   "execution_count": 27,
   "id": "f1e555b6",
   "metadata": {},
   "outputs": [],
   "source": [
    "TOPICS.to_csv('TOPICS.csv')\n",
    "THETA.to_csv('THETA.csv')\n",
    "PHI.to_csv('PHI.csv')"
   ]
  },
  {
   "cell_type": "code",
   "execution_count": 28,
   "id": "1e868910",
   "metadata": {},
   "outputs": [],
   "source": [
    "import kaleido"
   ]
  },
  {
   "cell_type": "code",
   "execution_count": 29,
   "id": "72467c3d",
   "metadata": {},
   "outputs": [],
   "source": [
    "vis1.write_image('lda.png')"
   ]
  }
 ],
 "metadata": {
  "kernelspec": {
   "display_name": "Python 3 (ipykernel)",
   "language": "python",
   "name": "python3"
  },
  "language_info": {
   "codemirror_mode": {
    "name": "ipython",
    "version": 3
   },
   "file_extension": ".py",
   "mimetype": "text/x-python",
   "name": "python",
   "nbconvert_exporter": "python",
   "pygments_lexer": "ipython3",
   "version": "3.8.8"
  }
 },
 "nbformat": 4,
 "nbformat_minor": 5
}
