{
 "cells": [
  {
   "cell_type": "code",
   "execution_count": 1,
   "id": "94e859f9",
   "metadata": {},
   "outputs": [],
   "source": [
    "import pandas as pd\n",
    "import numpy as np\n",
    "from scipy.linalg import norm, eigh\n",
    "import plotly_express as px\n",
    "from gensim.models import word2vec\n",
    "from gensim.corpora import Dictionary\n",
    "from sklearn.manifold import TSNE as tsne\n",
    "import seaborn as sns; sns.set()"
   ]
  },
  {
   "cell_type": "code",
   "execution_count": 2,
   "id": "add3a676",
   "metadata": {},
   "outputs": [
    {
     "data": {
      "text/plain": [
       "'4.3.0'"
      ]
     },
     "execution_count": 2,
     "metadata": {},
     "output_type": "execute_result"
    }
   ],
   "source": [
    "import gensim\n",
    "gensim.__version__"
   ]
  },
  {
   "cell_type": "code",
   "execution_count": 3,
   "id": "8985b6dc",
   "metadata": {},
   "outputs": [],
   "source": [
    "OHCO = ['doc_source', 'doc_id', 'sent_num', 'token_num']"
   ]
  },
  {
   "cell_type": "code",
   "execution_count": 4,
   "id": "9112590e",
   "metadata": {},
   "outputs": [],
   "source": [
    "LIB = pd.read_csv('LIB.csv').set_index('doc_id')\n",
    "LIB['doc_date'] = pd.to_datetime(LIB['doc_date'])\n",
    "CORPUS = pd.read_csv('CORPUS.csv').set_index(OHCO)\n",
    "VOCAB = pd.read_csv('VOCAB.csv').set_index('term_str')\n",
    "VOCAB.index = VOCAB.index.astype(str)\n",
    "BOW = pd.read_csv('BOW.csv').set_index(['doc_source', 'term_str'])"
   ]
  },
  {
   "cell_type": "code",
   "execution_count": 5,
   "id": "1413e51b",
   "metadata": {},
   "outputs": [],
   "source": [
    "TOPICS = pd.read_csv('TOPICS.csv').set_index('topic_id')\n",
    "TOPICS.columns=TOPICS.columns.astype(str)\n",
    "THETA = pd.read_csv('THETA.csv').set_index(['doc_id','doc_source'])\n",
    "TOPICS.columns.name='term_str'\n",
    "THETA.columns.name='topic_id'"
   ]
  },
  {
   "cell_type": "code",
   "execution_count": 6,
   "id": "21c03bde",
   "metadata": {},
   "outputs": [],
   "source": [
    "BOW_SENT = pd.read_csv('BOW_SENT.csv').set_index(['doc_source', 'term_str'])"
   ]
  },
  {
   "cell_type": "code",
   "execution_count": 7,
   "id": "6ad76b6b",
   "metadata": {},
   "outputs": [],
   "source": [
    "THETA_source=THETA.groupby('doc_source').mean()"
   ]
  },
  {
   "cell_type": "code",
   "execution_count": null,
   "id": "cd40e34a",
   "metadata": {},
   "outputs": [],
   "source": [
    "vis1=px.bar(THETA_source)\n",
    "vis1.update_layout(title='Stacked Bar Graph of Average Theta Values of Topics By Document Source')"
   ]
  },
  {
   "cell_type": "code",
   "execution_count": null,
   "id": "a6682570",
   "metadata": {
    "scrolled": false
   },
   "outputs": [],
   "source": [
    "vis1"
   ]
  },
  {
   "cell_type": "code",
   "execution_count": null,
   "id": "94278ce5",
   "metadata": {},
   "outputs": [],
   "source": [
    "sents = BOW_SENT['sentiment'].to_dict()"
   ]
  },
  {
   "cell_type": "code",
   "execution_count": null,
   "id": "80b04155",
   "metadata": {},
   "outputs": [],
   "source": [
    "sents = {key[1]: value for key, value in sents.items()}"
   ]
  },
  {
   "cell_type": "code",
   "execution_count": null,
   "id": "5301ac08",
   "metadata": {},
   "outputs": [],
   "source": [
    "for i in range(20):\n",
    "    for j in range(7):\n",
    "        word=TOPICS.iloc[i,j]\n",
    "        s=sents.get(word)\n",
    "        TOPICS.iloc[i,j]=s"
   ]
  },
  {
   "cell_type": "code",
   "execution_count": null,
   "id": "2c7ea881",
   "metadata": {},
   "outputs": [],
   "source": [
    "TOPICS['avg_sent']=TOPICS[['0','1','2','3','4','5','6']].mean(axis=1)"
   ]
  },
  {
   "cell_type": "code",
   "execution_count": null,
   "id": "405841d3",
   "metadata": {},
   "outputs": [],
   "source": [
    "vis2=px.bar(x=TOPICS.index,y=TOPICS['avg_sent'], labels={'x': 'Topic', 'y': 'Average Sentiment'})\n",
    "vis2.update_layout(title='Bar Graphs of Average Sentiment of Most Relevant Words By Topic')\n",
    "vis2.update_layout(xaxis={'tickmode': 'array', 'tickvals': TOPICS.index, 'ticktext': TOPICS.index})"
   ]
  },
  {
   "cell_type": "code",
   "execution_count": null,
   "id": "58416309",
   "metadata": {},
   "outputs": [],
   "source": [
    "import scipy.cluster.hierarchy as sch"
   ]
  },
  {
   "cell_type": "code",
   "execution_count": null,
   "id": "7c1550a0",
   "metadata": {},
   "outputs": [],
   "source": [
    "def hac(sims, linkage_method='complete', color_thresh=.3, figsize=(10, 10)):\n",
    "\n",
    "    # Generate the clustering\n",
    "    tree = sch.linkage(sims, method=linkage_method)\n",
    "    \n",
    "    # Get labels for the leaves\n",
    "    labels = LIB.label.values\n",
    "    \n",
    "    # Create a figure \n",
    "    plt.figure()\n",
    "    fig, axes = plt.subplots(figsize=figsize)\n",
    "    \n",
    "    # Create a dendrogram with the tree\n",
    "    dendrogram = sch.dendrogram(tree, \n",
    "                                labels=labels, \n",
    "                                orientation=\"left\", \n",
    "                                count_sort=True,\n",
    "                                distance_sort=True,\n",
    "                                above_threshold_color='.75',\n",
    "                                color_threshold=color_thresh\n",
    "                               )\n",
    "    \n",
    "    # Change the appearance of ticks, tick labels, and gridlines\n",
    "    plt.tick_params(axis='both', which='major', labelsize=14)"
   ]
  },
  {
   "cell_type": "code",
   "execution_count": null,
   "id": "47b5cfa9",
   "metadata": {},
   "outputs": [],
   "source": [
    "# Create dataframe with cartesian product of books by books\n",
    "PAIRS = pd.DataFrame(index=pd.MultiIndex.from_product([LIB.index.tolist(),\n",
    "                                        LIB.index.tolist()])).reset_index()\n",
    "\n",
    "# Keep only unique pairs of different books\n",
    "PAIRS = PAIRS[PAIRS.level_0 < PAIRS.level_1].set_index(['level_0','level_1'])\n",
    "\n",
    "# Name index cols\n",
    "PAIRS.index.names = ['doc_a', 'doc_b']"
   ]
  },
  {
   "cell_type": "code",
   "execution_count": null,
   "id": "b7f97079",
   "metadata": {},
   "outputs": [],
   "source": [
    "PAIRS['cityblock'] = pdist(collapsed, 'cityblock')\n",
    "PAIRS['cosine'] = pdist(collapsed, 'cosine')\n",
    "PAIRS['euclidean'] = pdist(L2, 'euclidean')\n",
    "PAIRS['jaccard'] = pdist(L0, 'jaccard')\n",
    "PAIRS['js'] = pdist(L1, 'jensenshannon') "
   ]
  },
  {
   "cell_type": "code",
   "execution_count": null,
   "id": "a5a4fe33",
   "metadata": {},
   "outputs": [],
   "source": [
    "hac(PAIRS.jaccard, linkage_method='weighted', color_thresh=0.7);"
   ]
  },
  {
   "cell_type": "code",
   "execution_count": null,
   "id": "b33ac800",
   "metadata": {},
   "outputs": [],
   "source": []
  },
  {
   "cell_type": "code",
   "execution_count": null,
   "id": "c8516ebe",
   "metadata": {},
   "outputs": [],
   "source": []
  },
  {
   "cell_type": "code",
   "execution_count": null,
   "id": "2776c3b2",
   "metadata": {},
   "outputs": [],
   "source": [
    "import kaleido"
   ]
  },
  {
   "cell_type": "code",
   "execution_count": null,
   "id": "80cce95a",
   "metadata": {},
   "outputs": [],
   "source": [
    "vis1.write_image('riff1.png')\n",
    "vis2.write_image('riff2.png')\n",
    "vis3.write_image('riff3.png')"
   ]
  },
  {
   "cell_type": "code",
   "execution_count": null,
   "id": "4aafd2c8",
   "metadata": {},
   "outputs": [],
   "source": []
  }
 ],
 "metadata": {
  "kernelspec": {
   "display_name": "Python 3 (ipykernel)",
   "language": "python",
   "name": "python3"
  },
  "language_info": {
   "codemirror_mode": {
    "name": "ipython",
    "version": 3
   },
   "file_extension": ".py",
   "mimetype": "text/x-python",
   "name": "python",
   "nbconvert_exporter": "python",
   "pygments_lexer": "ipython3",
   "version": "3.8.8"
  }
 },
 "nbformat": 4,
 "nbformat_minor": 5
}
